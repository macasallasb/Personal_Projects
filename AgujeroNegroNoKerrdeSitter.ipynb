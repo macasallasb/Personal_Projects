{
  "cells": [
    {
      "cell_type": "markdown",
      "metadata": {
        "id": "view-in-github",
        "colab_type": "text"
      },
      "source": [
        "<a href=\"https://colab.research.google.com/github/macasallasb/Personal_Projects/blob/main/AgujeroNegroNoKerrdeSitter.ipynb\" target=\"_parent\"><img src=\"https://colab.research.google.com/assets/colab-badge.svg\" alt=\"Open In Colab\"/></a>"
      ]
    },
    {
      "cell_type": "markdown",
      "metadata": {
        "id": "U7b58QzZ_2cK"
      },
      "source": [
        "# **Init**"
      ]
    },
    {
      "cell_type": "code",
      "execution_count": 1,
      "metadata": {
        "colab": {
          "base_uri": "https://localhost:8080/"
        },
        "id": "OqgSiOuGuOFX",
        "outputId": "ee655312-f28c-4186-89f7-868a106d8006"
      },
      "outputs": [
        {
          "output_type": "stream",
          "name": "stdout",
          "text": [
            "Collecting einsteinpy\n",
            "  Downloading einsteinpy-0.4.0-py3-none-any.whl (88 kB)\n",
            "\u001b[?25l     \u001b[90m━━━━━━━━━━━━━━━━━━━━━━━━━━━━━━━━━━━━━━━━\u001b[0m \u001b[32m0.0/88.1 kB\u001b[0m \u001b[31m?\u001b[0m eta \u001b[36m-:--:--\u001b[0m\r\u001b[2K     \u001b[91m━━━━━━━━━━━━━━━━━━━━━━━━━━━━━━━━━━━━━\u001b[0m\u001b[90m╺\u001b[0m\u001b[90m━━\u001b[0m \u001b[32m81.9/88.1 kB\u001b[0m \u001b[31m3.1 MB/s\u001b[0m eta \u001b[36m0:00:01\u001b[0m\r\u001b[2K     \u001b[90m━━━━━━━━━━━━━━━━━━━━━━━━━━━━━━━━━━━━━━━━\u001b[0m \u001b[32m88.1/88.1 kB\u001b[0m \u001b[31m2.4 MB/s\u001b[0m eta \u001b[36m0:00:00\u001b[0m\n",
            "\u001b[?25hRequirement already satisfied: numpy in /usr/local/lib/python3.10/dist-packages (from einsteinpy) (1.23.5)\n",
            "Requirement already satisfied: astropy in /usr/local/lib/python3.10/dist-packages (from einsteinpy) (5.3.4)\n",
            "Requirement already satisfied: matplotlib in /usr/local/lib/python3.10/dist-packages (from einsteinpy) (3.7.1)\n",
            "Requirement already satisfied: scipy>=1.0 in /usr/local/lib/python3.10/dist-packages (from einsteinpy) (1.11.3)\n",
            "Requirement already satisfied: plotly>=4.0 in /usr/local/lib/python3.10/dist-packages (from einsteinpy) (5.15.0)\n",
            "Requirement already satisfied: sympy>=1.1 in /usr/local/lib/python3.10/dist-packages (from einsteinpy) (1.12)\n",
            "Requirement already satisfied: numba!=0.49.0,>=0.46 in /usr/local/lib/python3.10/dist-packages (from einsteinpy) (0.56.4)\n",
            "Requirement already satisfied: llvmlite<0.40,>=0.39.0dev0 in /usr/local/lib/python3.10/dist-packages (from numba!=0.49.0,>=0.46->einsteinpy) (0.39.1)\n",
            "Requirement already satisfied: setuptools in /usr/local/lib/python3.10/dist-packages (from numba!=0.49.0,>=0.46->einsteinpy) (67.7.2)\n",
            "Requirement already satisfied: tenacity>=6.2.0 in /usr/local/lib/python3.10/dist-packages (from plotly>=4.0->einsteinpy) (8.2.3)\n",
            "Requirement already satisfied: packaging in /usr/local/lib/python3.10/dist-packages (from plotly>=4.0->einsteinpy) (23.2)\n",
            "Requirement already satisfied: mpmath>=0.19 in /usr/local/lib/python3.10/dist-packages (from sympy>=1.1->einsteinpy) (1.3.0)\n",
            "Requirement already satisfied: pyerfa>=2.0 in /usr/local/lib/python3.10/dist-packages (from astropy->einsteinpy) (2.0.1.1)\n",
            "Requirement already satisfied: PyYAML>=3.13 in /usr/local/lib/python3.10/dist-packages (from astropy->einsteinpy) (6.0.1)\n",
            "Requirement already satisfied: contourpy>=1.0.1 in /usr/local/lib/python3.10/dist-packages (from matplotlib->einsteinpy) (1.1.1)\n",
            "Requirement already satisfied: cycler>=0.10 in /usr/local/lib/python3.10/dist-packages (from matplotlib->einsteinpy) (0.12.1)\n",
            "Requirement already satisfied: fonttools>=4.22.0 in /usr/local/lib/python3.10/dist-packages (from matplotlib->einsteinpy) (4.43.1)\n",
            "Requirement already satisfied: kiwisolver>=1.0.1 in /usr/local/lib/python3.10/dist-packages (from matplotlib->einsteinpy) (1.4.5)\n",
            "Requirement already satisfied: pillow>=6.2.0 in /usr/local/lib/python3.10/dist-packages (from matplotlib->einsteinpy) (9.4.0)\n",
            "Requirement already satisfied: pyparsing>=2.3.1 in /usr/local/lib/python3.10/dist-packages (from matplotlib->einsteinpy) (3.1.1)\n",
            "Requirement already satisfied: python-dateutil>=2.7 in /usr/local/lib/python3.10/dist-packages (from matplotlib->einsteinpy) (2.8.2)\n",
            "Requirement already satisfied: six>=1.5 in /usr/local/lib/python3.10/dist-packages (from python-dateutil>=2.7->matplotlib->einsteinpy) (1.16.0)\n",
            "Installing collected packages: einsteinpy\n",
            "Successfully installed einsteinpy-0.4.0\n"
          ]
        }
      ],
      "source": [
        "#Inicializar e instalar las librerías que se manejarán.\n",
        "!pip install einsteinpy\n",
        "import sympy\n",
        "from sympy import simplify\n",
        "from sympy.solvers import solve\n",
        "from sympy import Function, symbols, sin, cos, pi, diff, sqrt\n",
        "from einsteinpy.symbolic import MetricTensor, EinsteinTensor\n",
        "import numpy as np\n",
        "import warnings\n",
        "import math\n",
        "from mpl_toolkits.mplot3d import axes3d\n",
        "import matplotlib.pylab as mp\n",
        "\n",
        "sympy.init_printing()"
      ]
    },
    {
      "cell_type": "code",
      "execution_count": 2,
      "metadata": {
        "colab": {
          "base_uri": "https://localhost:8080/",
          "height": 136
        },
        "id": "atjbvhTw5h6H",
        "outputId": "e6593c26-51b7-4dbe-cd12-c4a638f6a6b8"
      },
      "outputs": [
        {
          "output_type": "execute_result",
          "data": {
            "text/plain": [
              "⎡             ⎛   2    2       ⎞                                              \n",
              "⎢     (h + 1)⋅⎝P⋅a ⋅sin (θ) - Q⎠                                              \n",
              "⎢     ──────────────────────────               0            0                 \n",
              "⎢               \\rho²                                                         \n",
              "⎢                                                                             \n",
              "⎢                                        \\rho²⋅(h + 1)                        \n",
              "⎢                  0                    ────────────────    0                 \n",
              "⎢                                            2      2                         \n",
              "⎢                                       Q + a ⋅h⋅sin (θ)                      \n",
              "⎢                                                                             \n",
              "⎢                                                         \\rho²               \n",
              "⎢                  0                           0          ─────               \n",
              "⎢                                                           P                 \n",
              "⎢                                                                             \n",
              "⎢                                                                             \n",
              "⎢           ⎛  ⎛ 2    2⎞    ⎞    2                                  ⎛       2 \n",
              "⎢-a⋅(h + 1)⋅⎝P⋅⎝a  + r ⎠ - Q⎠⋅sin (θ)                             2 ⎜      a ⋅\n",
              "⎢─────────────────────────────────────         0            0    a ⋅⎜2⋅h + ───\n",
              "⎣                \\rho²                                              ⎝         \n",
              "\n",
              "                   ⎛  ⎛ 2    2⎞    ⎞    2                         ⎤\n",
              "        -a⋅(h + 1)⋅⎝P⋅⎝a  + r ⎠ - Q⎠⋅sin (θ)                      ⎥\n",
              "        ─────────────────────────────────────                     ⎥\n",
              "                        \\rho²                                     ⎥\n",
              "                                                                  ⎥\n",
              "                                                                  ⎥\n",
              "                          0                                       ⎥\n",
              "                                                                  ⎥\n",
              "                                                                  ⎥\n",
              "                                                                  ⎥\n",
              "                                                                  ⎥\n",
              "                          0                                       ⎥\n",
              "                                                                  ⎥\n",
              "                                                                  ⎥\n",
              "                     ⎛           2                       ⎞        ⎥\n",
              "     2   ⎞           ⎜  ⎛ 2    2⎞       2            2   ⎟    2   ⎥\n",
              "h⋅sin (θ)⎟    2      ⎝P⋅⎝a  + r ⎠  - Q⋅a ⋅(h + 1)⋅sin (θ)⎠⋅sin (θ)⎥\n",
              "─────────⎟⋅sin (θ) + ─────────────────────────────────────────────⎥\n",
              "\\rho²    ⎠                               \\rho²                    ⎦"
            ],
            "text/latex": "$\\displaystyle \\left[\\begin{matrix}\\frac{\\left(h + 1\\right) \\left(P a^{2} \\sin^{2}{\\left(\\theta \\right)} - Q\\right)}{\\rho^{2}} & 0 & 0 & - \\frac{a \\left(h + 1\\right) \\left(P \\left(a^{2} + r^{2}\\right) - Q\\right) \\sin^{2}{\\left(\\theta \\right)}}{\\rho^{2}}\\\\0 & \\frac{\\rho^{2} \\left(h + 1\\right)}{Q + a^{2} h \\sin^{2}{\\left(\\theta \\right)}} & 0 & 0\\\\0 & 0 & \\frac{\\rho^{2}}{P} & 0\\\\- \\frac{a \\left(h + 1\\right) \\left(P \\left(a^{2} + r^{2}\\right) - Q\\right) \\sin^{2}{\\left(\\theta \\right)}}{\\rho^{2}} & 0 & 0 & a^{2} \\cdot \\left(2 h + \\frac{a^{2} h \\sin^{2}{\\left(\\theta \\right)}}{\\rho^{2}}\\right) \\sin^{2}{\\left(\\theta \\right)} + \\frac{\\left(P \\left(a^{2} + r^{2}\\right)^{2} - Q a^{2} \\left(h + 1\\right) \\sin^{2}{\\left(\\theta \\right)}\\right) \\sin^{2}{\\left(\\theta \\right)}}{\\rho^{2}}\\end{matrix}\\right]$"
          },
          "metadata": {},
          "execution_count": 2
        }
      ],
      "source": [
        "# Definición de coordenadas y funciones involucradas en la métrica\n",
        "syms = sympy.symbols('t r theta phi',real=True)\n",
        "t, r, theta, phi = syms\n",
        "a, m, h, alpha, p, L, O, Q, P, eps =symbols(\"a M h \\\\alpha \\\\rho^2 \\\\Lambda \\\\Omega Q P \\\\epsilon\",real=True)\n",
        "\n",
        "# Componentes de la métrica\n",
        "metric = [[0 for i in range(4)] for i in range(4)]\n",
        "metric[0][0] = (-Q+a**2*P*sin(theta)**2)*(1+h)/p\n",
        "metric[1][1] = p*(1+h)/(Q+h*a**2*sin(theta)**2)\n",
        "metric[2][2] = p/P\n",
        "metric[3][3] = (P*(r**2+a**2)**2-Q*a**2*sin(theta)**2*(1+h))*sin(theta)**2/p+a**2*sin(theta)**2*(2*h+h*a**2*sin(theta)**2/p)\n",
        "metric[0][3] = -a*(P*(r**2+a**2)-Q)*(1+h)*sin(theta)**2/p\n",
        "metric[3][0] = metric[0][3]\n",
        "\n",
        "g = MetricTensor(metric, syms, name=\"non-kerr de Sitter accelerating metric\")\n",
        "g.tensor()"
      ]
    },
    {
      "cell_type": "code",
      "execution_count": 3,
      "metadata": {
        "colab": {
          "base_uri": "https://localhost:8080/",
          "height": 240
        },
        "id": "8afzn9ZkSMVy",
        "outputId": "eab6536a-9034-4586-9a43-a45c20dac5dd"
      },
      "outputs": [
        {
          "output_type": "execute_result",
          "data": {
            "text/plain": [
              "⎡     ⎛   3                  ⎞ ⎛         2 ⎛ 2    2⎞                          \n",
              "⎢     ⎜  M ⋅\\epsilon⋅r       ⎟ ⎜\\Lambda⋅r ⋅⎝a  + r ⎠    2 ⎛                   \n",
              "⎢     ⎜────────────────── + 1⎟⋅⎜──────────────────── + a ⋅⎜-2⋅M⋅\\alpha⋅cos(θ) \n",
              "⎢     ⎜                 2    ⎟ ⎝         3                ⎝                   \n",
              "⎢     ⎜⎛ 2    2       2⎞     ⎟                                                \n",
              "⎢     ⎝⎝a ⋅cos (θ) + r ⎠     ⎠                                                \n",
              "⎢     ────────────────────────────────────────────────────────────────────────\n",
              "⎢                                                                             \n",
              "⎢                                                                            a\n",
              "⎢                                                                             \n",
              "⎢                                                                             \n",
              "⎢                                                                             \n",
              "⎢                                                                             \n",
              "⎢                                                                             \n",
              "⎢                                                                             \n",
              "⎢                                                                             \n",
              "⎢                                                                             \n",
              "⎢                                                                             \n",
              "⎢                                                                             \n",
              "⎢                                                                             \n",
              "⎢                                                                             \n",
              "⎢                                                                             \n",
              "⎢                                                                             \n",
              "⎢                                                                             \n",
              "⎢                                                                             \n",
              "⎢                                                                             \n",
              "⎢                                                                             \n",
              "⎢                                                                             \n",
              "⎢                                                                             \n",
              "⎢                                                                             \n",
              "⎢                                                                             \n",
              "⎢   ⎛   3                  ⎞ ⎛         2 ⎛ 2    2⎞                            \n",
              "⎢   ⎜  M ⋅\\epsilon⋅r       ⎟ ⎜\\Lambda⋅r ⋅⎝a  + r ⎠   ⎛ 2    2⎞ ⎛              \n",
              "⎢-a⋅⎜────────────────── + 1⎟⋅⎜──────────────────── + ⎝a  + r ⎠⋅⎜-2⋅M⋅\\alpha⋅co\n",
              "⎢   ⎜                 2    ⎟ ⎝         3                       ⎝              \n",
              "⎢   ⎜⎛ 2    2       2⎞     ⎟                                                  \n",
              "⎢   ⎝⎝a ⋅cos (θ) + r ⎠     ⎠                                                  \n",
              "⎢─────────────────────────────────────────────────────────────────────────────\n",
              "⎢                                                                             \n",
              "⎢                                                                             \n",
              "⎣                                                                             \n",
              "\n",
              "                                                                              \n",
              "   2 ⎛\\Lambda         2⎞    2       ⎞    2      ⎛        2  2    ⎞ ⎛          \n",
              "+ a ⋅⎜─────── + \\alpha ⎟⋅cos (θ) + 1⎟⋅sin (θ) - ⎝- \\alpha ⋅r  + 1⎠⋅⎝-2⋅M⋅r + a\n",
              "     ⎝   3             ⎠            ⎠                                         \n",
              "                                                                              \n",
              "                                                                              \n",
              "──────────────────────────────────────────────────────────────────────────────\n",
              "2    2       2                                                                \n",
              " ⋅cos (θ) + r                                                                 \n",
              "                                                                              \n",
              "                                                                              \n",
              "                                                                              \n",
              "                                                                              \n",
              "                                                                              \n",
              "                                                                              \n",
              "                                                                              \n",
              "       0                                                                      \n",
              "                                                                              \n",
              "                                                                              \n",
              "                                                                              \n",
              "                                                                              \n",
              "                                                                              \n",
              "                                                                              \n",
              "                                                                              \n",
              "                                                                              \n",
              "                                                                              \n",
              "       0                                                                      \n",
              "                                                                              \n",
              "                                                                              \n",
              "                                                                              \n",
              "                                                                              \n",
              "                                                                              \n",
              "        2 ⎛\\Lambda         2⎞    2       ⎞   ⎛        2  2    ⎞ ⎛          2  \n",
              "s(θ) + a ⋅⎜─────── + \\alpha ⎟⋅cos (θ) + 1⎟ - ⎝- \\alpha ⋅r  + 1⎠⋅⎝-2⋅M⋅r + a  +\n",
              "          ⎝   3             ⎠            ⎠                                    \n",
              "                                                                              \n",
              "                                                                              \n",
              "──────────────────────────────────────────────────────────────────────────────\n",
              " 2    2       2                                                               \n",
              "a ⋅cos (θ) + r                                                                \n",
              "                                                                              \n",
              "\n",
              "       ⎞                                                                      \n",
              "2    2⎞⎟                                                                      \n",
              "  + r ⎠⎟                                                                      \n",
              "       ⎠                                                                      \n",
              "                                                                              \n",
              "                                                                              \n",
              "────────                                                   0                  \n",
              "                                                                              \n",
              "                                                                              \n",
              "                                                                              \n",
              "                                                         ⎛   3                \n",
              "                                       ⎛ 2    2       2⎞ ⎜  M ⋅\\epsilon⋅r     \n",
              "                                       ⎝a ⋅cos (θ) + r ⎠⋅⎜────────────────── +\n",
              "                                                         ⎜                 2  \n",
              "                                                         ⎜⎛ 2    2       2⎞   \n",
              "                                                         ⎝⎝a ⋅cos (θ) + r ⎠   \n",
              "                ──────────────────────────────────────────────────────────────\n",
              "                 3           2      2               2 ⎛ 2    2⎞               \n",
              "                M ⋅\\epsilon⋅a ⋅r⋅sin (θ)   \\Lambda⋅r ⋅⎝a  + r ⎠   ⎛        2  \n",
              "                ──────────────────────── - ──────────────────── + ⎝- \\alpha ⋅r\n",
              "                                    2               3                         \n",
              "                   ⎛ 2    2       2⎞                                          \n",
              "                   ⎝a ⋅cos (θ) + r ⎠                                          \n",
              "                                                                              \n",
              "                                                                              \n",
              "                                                                              \n",
              "                                                           0                  \n",
              "                                                                              \n",
              "                                                                              \n",
              "                                                                              \n",
              "                                                                              \n",
              "    ⎞                                                                         \n",
              "  2⎞⎟    2                                                                    \n",
              " r ⎠⎟⋅sin (θ)                                                                 \n",
              "    ⎠                                                                         \n",
              "                                                                              \n",
              "                                                                              \n",
              "──────────────                                             0                  \n",
              "                                                                              \n",
              "                                                                              \n",
              "                                                                              \n",
              "\n",
              "                                                                              \n",
              "                                                                              \n",
              "                                                                              \n",
              "                                                                              \n",
              "                                                                              \n",
              "                                                                              \n",
              "                                                      0                       \n",
              "                                                                              \n",
              "                                                                              \n",
              "                                                                              \n",
              "  ⎞                                                                           \n",
              "  ⎟                                                                           \n",
              " 1⎟                                                                           \n",
              "  ⎟                                                                           \n",
              "  ⎟                                                                           \n",
              "  ⎠                                                                           \n",
              "─────────────────────────                             0                       \n",
              "                                                                              \n",
              "2    ⎞ ⎛          2    2⎞                                                     \n",
              "  + 1⎠⋅⎝-2⋅M⋅r + a  + r ⎠                                                     \n",
              "                                                                              \n",
              "                                                                              \n",
              "                                                                              \n",
              "                                                                              \n",
              "                                                2    2       2                \n",
              "                                               a ⋅cos (θ) + r                 \n",
              "                           ───────────────────────────────────────────────────\n",
              "                                                 2 ⎛\\Lambda         2⎞    2   \n",
              "                           -2⋅M⋅\\alpha⋅cos(θ) + a ⋅⎜─────── + \\alpha ⎟⋅cos (θ)\n",
              "                                                   ⎝   3             ⎠        \n",
              "                                                                              \n",
              "                                                                              \n",
              "                                                                              \n",
              "                                                                              \n",
              "                                                                              \n",
              "                                                                              \n",
              "                                                                              \n",
              "                                                      0                       \n",
              "                                                                              \n",
              "                                                                              \n",
              "                                                                              \n",
              "\n",
              "                                              ⎛   3                  ⎞ ⎛      \n",
              "                                              ⎜  M ⋅\\epsilon⋅r       ⎟ ⎜\\Lambd\n",
              "                                           -a⋅⎜────────────────── + 1⎟⋅⎜──────\n",
              "                                              ⎜                 2    ⎟ ⎝      \n",
              "                                              ⎜⎛ 2    2       2⎞     ⎟        \n",
              "                                              ⎝⎝a ⋅cos (θ) + r ⎠     ⎠        \n",
              "                                           ───────────────────────────────────\n",
              "                                                                              \n",
              "                                                                              \n",
              "                                                                              \n",
              "                                                                              \n",
              "                                                                              \n",
              "                                                                              \n",
              "                                                                              \n",
              "                                                                              \n",
              "                                                                              \n",
              "                                                                              \n",
              "                                                                              \n",
              "                                                                              \n",
              "                                                                              \n",
              "                                                                              \n",
              "                                                                              \n",
              "                                                                              \n",
              "                                                                              \n",
              "                                                                              \n",
              "                                                                              \n",
              "────                                                                          \n",
              "                                                                              \n",
              " + 1                                                                          \n",
              "                                                                              \n",
              "                                                                              \n",
              "                                                                   ⎛     ⎛    \n",
              "                                                                   ⎜   2 ⎜  \\L\n",
              "                                                                   ⎜- a ⋅⎜- ──\n",
              "                                                                   ⎜     ⎝    \n",
              "         ⎛ 3           2      2          3             ⎞           ⎜          \n",
              "       2 ⎜M ⋅\\epsilon⋅a ⋅r⋅sin (θ)    2⋅M ⋅\\epsilon⋅r  ⎟    2      ⎝          \n",
              "      a ⋅⎜──────────────────────── + ──────────────────⎟⋅sin (θ) + ───────────\n",
              "         ⎜                    3                       2⎟                      \n",
              "         ⎜   ⎛ 2    2       2⎞       ⎛ 2    2       2⎞ ⎟                      \n",
              "         ⎝   ⎝a ⋅cos (θ) + r ⎠       ⎝a ⋅cos (θ) + r ⎠ ⎠                      \n",
              "\n",
              "   2 ⎛ 2    2⎞                                                                \n",
              "a⋅r ⋅⎝a  + r ⎠   ⎛ 2    2⎞ ⎛                      2 ⎛\\Lambda         2⎞    2  \n",
              "────────────── + ⎝a  + r ⎠⋅⎜-2⋅M⋅\\alpha⋅cos(θ) + a ⋅⎜─────── + \\alpha ⎟⋅cos (θ\n",
              "   3                       ⎝                        ⎝   3             ⎠       \n",
              "                                                                              \n",
              "                                                                              \n",
              "──────────────────────────────────────────────────────────────────────────────\n",
              "                                           2    2       2                     \n",
              "                                          a ⋅cos (θ) + r                      \n",
              "                                                                              \n",
              "                                                                              \n",
              "                                                                              \n",
              "                                                                              \n",
              "                                                                              \n",
              "                                                                              \n",
              "                                                                              \n",
              "                                                 0                            \n",
              "                                                                              \n",
              "                                                                              \n",
              "                                                                              \n",
              "                                                                              \n",
              "                                                                              \n",
              "                                                                              \n",
              "                                                                              \n",
              "                                                                              \n",
              "                                                                              \n",
              "                                                 0                            \n",
              "                                                                              \n",
              "                                                                              \n",
              "                                                                              \n",
              "                                                                              \n",
              "       2 ⎛ 2    2⎞                                        ⎞ ⎛   3             \n",
              "ambda⋅r ⋅⎝a  + r ⎠   ⎛        2  2    ⎞ ⎛          2    2⎞⎟ ⎜  M ⋅\\epsilon⋅r  \n",
              "────────────────── + ⎝- \\alpha ⋅r  + 1⎠⋅⎝-2⋅M⋅r + a  + r ⎠⎟⋅⎜─────────────────\n",
              "       3                                                  ⎠ ⎜                 \n",
              "                                                            ⎜⎛ 2    2       2⎞\n",
              "                                                            ⎝⎝a ⋅cos (θ) + r ⎠\n",
              "──────────────────────────────────────────────────────────────────────────────\n",
              "                                                                          2   \n",
              "                                                                         a ⋅co\n",
              "                                                                              \n",
              "\n",
              "                                              ⎞                               \n",
              "     ⎞   ⎛        2  2    ⎞ ⎛          2    2⎞⎟    2                          \n",
              ") + 1⎟ - ⎝- \\alpha ⋅r  + 1⎠⋅⎝-2⋅M⋅r + a  + r ⎠⎟⋅sin (θ)                       \n",
              "     ⎠                                        ⎠                               \n",
              "                                                                              \n",
              "                                                                              \n",
              "────────────────────────────────────────────────────────                      \n",
              "                                                                              \n",
              "                                                                              \n",
              "                                                                              \n",
              "                                                                              \n",
              "                                                                              \n",
              "                                                                              \n",
              "                                                                              \n",
              "                                                                              \n",
              "                                                                              \n",
              "                                                                              \n",
              "                                                                              \n",
              "                                                                              \n",
              "                                                                              \n",
              "                                                                              \n",
              "                                                                              \n",
              "                                                                              \n",
              "                                                                              \n",
              "                                                                              \n",
              "                                                                              \n",
              "                                                                              \n",
              "                                                                              \n",
              "                                                                              \n",
              "                                                                              \n",
              "                                                                              \n",
              "     ⎞                    2                                                   \n",
              "     ⎟    2      ⎛ 2    2⎞  ⎛                      2 ⎛\\Lambda         2⎞    2 \n",
              "─ + 1⎟⋅sin (θ) + ⎝a  + r ⎠ ⋅⎜-2⋅M⋅\\alpha⋅cos(θ) + a ⋅⎜─────── + \\alpha ⎟⋅cos (\n",
              "2    ⎟                      ⎝                        ⎝   3             ⎠      \n",
              "     ⎟                                                                        \n",
              "     ⎠                                                                        \n",
              "──────────────────────────────────────────────────────────────────────────────\n",
              " 2       2                                                                    \n",
              "s (θ) + r                                                                     \n",
              "                                                                              \n",
              "\n",
              "                ⎤\n",
              "                ⎥\n",
              "                ⎥\n",
              "                ⎥\n",
              "                ⎥\n",
              "                ⎥\n",
              "                ⎥\n",
              "                ⎥\n",
              "                ⎥\n",
              "                ⎥\n",
              "                ⎥\n",
              "                ⎥\n",
              "                ⎥\n",
              "                ⎥\n",
              "                ⎥\n",
              "                ⎥\n",
              "                ⎥\n",
              "                ⎥\n",
              "                ⎥\n",
              "                ⎥\n",
              "                ⎥\n",
              "                ⎥\n",
              "                ⎥\n",
              "                ⎥\n",
              "                ⎥\n",
              "                ⎥\n",
              "                ⎥\n",
              "                ⎥\n",
              "                ⎥\n",
              "                ⎥\n",
              "                ⎥\n",
              "       ⎞        ⎥\n",
              "      ⎞⎟    2   ⎥\n",
              "θ) + 1⎟⎟⋅sin (θ)⎥\n",
              "      ⎠⎟        ⎥\n",
              "       ⎟        ⎥\n",
              "       ⎠        ⎥\n",
              "────────────────⎥\n",
              "                ⎥\n",
              "                ⎥\n",
              "                ⎦"
            ],
            "text/latex": "$\\displaystyle \\left[\\begin{matrix}\\frac{\\left(\\frac{M^{3} \\epsilon r}{\\left(a^{2} \\cos^{2}{\\left(\\theta \\right)} + r^{2}\\right)^{2}} + 1\\right) \\left(\\frac{\\Lambda r^{2} \\left(a^{2} + r^{2}\\right)}{3} + a^{2} \\left(- 2 M \\alpha \\cos{\\left(\\theta \\right)} + a^{2} \\left(\\frac{\\Lambda}{3} + \\alpha^{2}\\right) \\cos^{2}{\\left(\\theta \\right)} + 1\\right) \\sin^{2}{\\left(\\theta \\right)} - \\left(- \\alpha^{2} r^{2} + 1\\right) \\left(- 2 M r + a^{2} + r^{2}\\right)\\right)}{a^{2} \\cos^{2}{\\left(\\theta \\right)} + r^{2}} & 0 & 0 & - \\frac{a \\left(\\frac{M^{3} \\epsilon r}{\\left(a^{2} \\cos^{2}{\\left(\\theta \\right)} + r^{2}\\right)^{2}} + 1\\right) \\left(\\frac{\\Lambda r^{2} \\left(a^{2} + r^{2}\\right)}{3} + \\left(a^{2} + r^{2}\\right) \\left(- 2 M \\alpha \\cos{\\left(\\theta \\right)} + a^{2} \\left(\\frac{\\Lambda}{3} + \\alpha^{2}\\right) \\cos^{2}{\\left(\\theta \\right)} + 1\\right) - \\left(- \\alpha^{2} r^{2} + 1\\right) \\left(- 2 M r + a^{2} + r^{2}\\right)\\right) \\sin^{2}{\\left(\\theta \\right)}}{a^{2} \\cos^{2}{\\left(\\theta \\right)} + r^{2}}\\\\0 & \\frac{\\left(a^{2} \\cos^{2}{\\left(\\theta \\right)} + r^{2}\\right) \\left(\\frac{M^{3} \\epsilon r}{\\left(a^{2} \\cos^{2}{\\left(\\theta \\right)} + r^{2}\\right)^{2}} + 1\\right)}{\\frac{M^{3} \\epsilon a^{2} r \\sin^{2}{\\left(\\theta \\right)}}{\\left(a^{2} \\cos^{2}{\\left(\\theta \\right)} + r^{2}\\right)^{2}} - \\frac{\\Lambda r^{2} \\left(a^{2} + r^{2}\\right)}{3} + \\left(- \\alpha^{2} r^{2} + 1\\right) \\left(- 2 M r + a^{2} + r^{2}\\right)} & 0 & 0\\\\0 & 0 & \\frac{a^{2} \\cos^{2}{\\left(\\theta \\right)} + r^{2}}{- 2 M \\alpha \\cos{\\left(\\theta \\right)} + a^{2} \\left(\\frac{\\Lambda}{3} + \\alpha^{2}\\right) \\cos^{2}{\\left(\\theta \\right)} + 1} & 0\\\\- \\frac{a \\left(\\frac{M^{3} \\epsilon r}{\\left(a^{2} \\cos^{2}{\\left(\\theta \\right)} + r^{2}\\right)^{2}} + 1\\right) \\left(\\frac{\\Lambda r^{2} \\left(a^{2} + r^{2}\\right)}{3} + \\left(a^{2} + r^{2}\\right) \\left(- 2 M \\alpha \\cos{\\left(\\theta \\right)} + a^{2} \\left(\\frac{\\Lambda}{3} + \\alpha^{2}\\right) \\cos^{2}{\\left(\\theta \\right)} + 1\\right) - \\left(- \\alpha^{2} r^{2} + 1\\right) \\left(- 2 M r + a^{2} + r^{2}\\right)\\right) \\sin^{2}{\\left(\\theta \\right)}}{a^{2} \\cos^{2}{\\left(\\theta \\right)} + r^{2}} & 0 & 0 & a^{2} \\left(\\frac{M^{3} \\epsilon a^{2} r \\sin^{2}{\\left(\\theta \\right)}}{\\left(a^{2} \\cos^{2}{\\left(\\theta \\right)} + r^{2}\\right)^{3}} + \\frac{2 M^{3} \\epsilon r}{\\left(a^{2} \\cos^{2}{\\left(\\theta \\right)} + r^{2}\\right)^{2}}\\right) \\sin^{2}{\\left(\\theta \\right)} + \\frac{\\left(- a^{2} \\left(- \\frac{\\Lambda r^{2} \\left(a^{2} + r^{2}\\right)}{3} + \\left(- \\alpha^{2} r^{2} + 1\\right) \\left(- 2 M r + a^{2} + r^{2}\\right)\\right) \\left(\\frac{M^{3} \\epsilon r}{\\left(a^{2} \\cos^{2}{\\left(\\theta \\right)} + r^{2}\\right)^{2}} + 1\\right) \\sin^{2}{\\left(\\theta \\right)} + \\left(a^{2} + r^{2}\\right)^{2} \\left(- 2 M \\alpha \\cos{\\left(\\theta \\right)} + a^{2} \\left(\\frac{\\Lambda}{3} + \\alpha^{2}\\right) \\cos^{2}{\\left(\\theta \\right)} + 1\\right)\\right) \\sin^{2}{\\left(\\theta \\right)}}{a^{2} \\cos^{2}{\\left(\\theta \\right)} + r^{2}}\\end{matrix}\\right]$"
          },
          "metadata": {},
          "execution_count": 3
        }
      ],
      "source": [
        "# Definición de coordenadas y funciones involucradas en la métrica\n",
        "O1, O2p, O2m=symbols(\"\\\\Omega_1 \\\\omega_{+} \\\\omega_{-}\")\n",
        "g0 = g.subs(h,(eps*m**3*r)/p**2).subs(O1,1-alpha*r*cos(theta)).subs(Q,(a**2+r**2-2*m*r)*(1-alpha**2*r**2)-(L/3)*(a**2+r**2)*r**2).subs(P,1-2*alpha*m*cos(theta)+(alpha**2+(L/3))*a**2*cos(theta)**2).subs(p,r**2+a**2*cos(theta)**2)\n",
        "g0.tensor()"
      ]
    },
    {
      "cell_type": "code",
      "execution_count": 4,
      "metadata": {
        "colab": {
          "base_uri": "https://localhost:8080/",
          "height": 112
        },
        "id": "gIXx9ruh5LUN",
        "outputId": "f1bbfea4-7a8a-4187-ea7d-4168f6d8b4dc"
      },
      "outputs": [
        {
          "output_type": "execute_result",
          "data": {
            "text/plain": [
              "                                                                              \n",
              " 3           2      2                2  4  3    4                2  2  5    2 \n",
              "M ⋅\\epsilon⋅a ⋅r⋅sin (θ) + 2⋅M⋅\\alpha ⋅a ⋅r ⋅cos (θ) + 4⋅M⋅\\alpha ⋅a ⋅r ⋅cos (\n",
              "                                                                              \n",
              "\n",
              "                                                                              \n",
              "               2  7        4      4           2  3    2           5   \\Lambda⋅\n",
              "θ) + 2⋅M⋅\\alpha ⋅r  - 2⋅M⋅a ⋅r⋅cos (θ) - 4⋅M⋅a ⋅r ⋅cos (θ) - 2⋅M⋅r  + ────────\n",
              "                                                                              \n",
              "\n",
              " 6  2    4               4  4    4                 4  4    2                 2\n",
              "a ⋅r ⋅cos (θ)   \\Lambda⋅a ⋅r ⋅cos (θ)   2⋅\\Lambda⋅a ⋅r ⋅cos (θ)   2⋅\\Lambda⋅a \n",
              "───────────── + ───────────────────── + ─────────────────────── + ────────────\n",
              "  3                       3                        3                         3\n",
              "\n",
              "  6    2               2  6            8                                      \n",
              "⋅r ⋅cos (θ)   \\Lambda⋅a ⋅r    \\Lambda⋅r          2  6  2    4            2  4 \n",
              "─────────── + ───────────── + ────────── - \\alpha ⋅a ⋅r ⋅cos (θ) - \\alpha ⋅a ⋅\n",
              "                    3             3                                           \n",
              "\n",
              "                                                                              \n",
              " 4    4              2  4  4    2              2  2  6    2            2  2  6\n",
              "r ⋅cos (θ) - 2⋅\\alpha ⋅a ⋅r ⋅cos (θ) - 2⋅\\alpha ⋅a ⋅r ⋅cos (θ) - \\alpha ⋅a ⋅r \n",
              "                                                                              \n",
              "\n",
              "                                                                              \n",
              "         2  8    6    4       4  2    4         4  2    2         2  4    2   \n",
              " - \\alpha ⋅r  + a ⋅cos (θ) + a ⋅r ⋅cos (θ) + 2⋅a ⋅r ⋅cos (θ) + 2⋅a ⋅r ⋅cos (θ)\n",
              "                                                                              \n",
              "\n",
              "             \n",
              "    2  4    6\n",
              " + a ⋅r  + r \n",
              "             "
            ],
            "text/latex": "$\\displaystyle M^{3} \\epsilon a^{2} r \\sin^{2}{\\left(\\theta \\right)} + 2 M \\alpha^{2} a^{4} r^{3} \\cos^{4}{\\left(\\theta \\right)} + 4 M \\alpha^{2} a^{2} r^{5} \\cos^{2}{\\left(\\theta \\right)} + 2 M \\alpha^{2} r^{7} - 2 M a^{4} r \\cos^{4}{\\left(\\theta \\right)} - 4 M a^{2} r^{3} \\cos^{2}{\\left(\\theta \\right)} - 2 M r^{5} + \\frac{\\Lambda a^{6} r^{2} \\cos^{4}{\\left(\\theta \\right)}}{3} + \\frac{\\Lambda a^{4} r^{4} \\cos^{4}{\\left(\\theta \\right)}}{3} + \\frac{2 \\Lambda a^{4} r^{4} \\cos^{2}{\\left(\\theta \\right)}}{3} + \\frac{2 \\Lambda a^{2} r^{6} \\cos^{2}{\\left(\\theta \\right)}}{3} + \\frac{\\Lambda a^{2} r^{6}}{3} + \\frac{\\Lambda r^{8}}{3} - \\alpha^{2} a^{6} r^{2} \\cos^{4}{\\left(\\theta \\right)} - \\alpha^{2} a^{4} r^{4} \\cos^{4}{\\left(\\theta \\right)} - 2 \\alpha^{2} a^{4} r^{4} \\cos^{2}{\\left(\\theta \\right)} - 2 \\alpha^{2} a^{2} r^{6} \\cos^{2}{\\left(\\theta \\right)} - \\alpha^{2} a^{2} r^{6} - \\alpha^{2} r^{8} + a^{6} \\cos^{4}{\\left(\\theta \\right)} + a^{4} r^{2} \\cos^{4}{\\left(\\theta \\right)} + 2 a^{4} r^{2} \\cos^{2}{\\left(\\theta \\right)} + 2 a^{2} r^{4} \\cos^{2}{\\left(\\theta \\right)} + a^{2} r^{4} + r^{6}$"
          },
          "metadata": {},
          "execution_count": 4
        }
      ],
      "source": [
        "#Forma analítica del horizonte de eventos\n",
        "hev=p**2*Q+a**2*sin(theta)**2*m**3*eps*r\n",
        "hev0=hev.subs(Q,(a**2-2*m*r+r**2)*(1-alpha**2*r**2)+L/3*(a**2+r**2)*r**2).subs(p,r**2+a**2*cos(theta)**2)\n",
        "hev0=sympy.expand(hev0)\n",
        "hev0=sympy.simplify(hev0)\n",
        "hev0"
      ]
    },
    {
      "cell_type": "code",
      "execution_count": 5,
      "metadata": {
        "colab": {
          "base_uri": "https://localhost:8080/",
          "height": 56
        },
        "id": "vFbd-LG3WDuC",
        "outputId": "3eed5ee9-378e-4bdf-8f74-142cdef47ab4"
      },
      "outputs": [
        {
          "output_type": "execute_result",
          "data": {
            "text/plain": [
              "                 ⎛   4    2       2       2 ⎛ 2    2⎞⎞                        \n",
              "         \\Lambda⋅⎝- a ⋅sin (θ)⋅cos (θ) + r ⋅⎝a  + r ⎠⎠          ⎛     2    2  \n",
              "-2⋅M⋅r - ───────────────────────────────────────────── + \\alpha⋅⎝2⋅M⋅a ⋅sin (θ\n",
              "                               3                                              \n",
              "\n",
              "                                                                              \n",
              "                  ⎛   4    2       2       2 ⎛          2⎞⎞⎞    2    2       2\n",
              ")⋅cos(θ) - \\alpha⋅⎝- a ⋅sin (θ)⋅cos (θ) + r ⋅⎝-2⋅M⋅r + a ⎠⎠⎠ + a ⋅cos (θ) + r \n",
              "                                                                              "
            ],
            "text/latex": "$\\displaystyle - 2 M r - \\frac{\\Lambda \\left(- a^{4} \\sin^{2}{\\left(\\theta \\right)} \\cos^{2}{\\left(\\theta \\right)} + r^{2} \\left(a^{2} + r^{2}\\right)\\right)}{3} + \\alpha \\left(2 M a^{2} \\sin^{2}{\\left(\\theta \\right)} \\cos{\\left(\\theta \\right)} - \\alpha \\left(- a^{4} \\sin^{2}{\\left(\\theta \\right)} \\cos^{2}{\\left(\\theta \\right)} + r^{2} \\left(- 2 M r + a^{2}\\right)\\right)\\right) + a^{2} \\cos^{2}{\\left(\\theta \\right)} + r^{2}$"
          },
          "metadata": {},
          "execution_count": 5
        }
      ],
      "source": [
        "#Inicializar la función de la ergosféra\n",
        "erg=a**2*cos(theta)**2-2*m*r+r**2-(L/3)*((a**2+r**2)*r**2-a**4*(sin(theta)*cos(theta))**2)+alpha*(2*a**2*m*sin(theta)**2*cos(theta)-alpha*(r**2*(a**2-2*m*r)-a**4*(sin(theta)*cos(theta))**2))\n",
        "erg"
      ]
    },
    {
      "cell_type": "code",
      "execution_count": 6,
      "metadata": {
        "id": "FJ-PNpIUX8KL"
      },
      "outputs": [],
      "source": [
        "#Función auxiliar que se usa mucho a lo largo del código\n",
        "subs =lambda f,mass,spin,epsilon,alphas,Lambda: f.subs(m,mass).subs(a,spin).subs(eps,epsilon).subs(alpha,alphas).subs(L,Lambda)"
      ]
    },
    {
      "cell_type": "code",
      "execution_count": 7,
      "metadata": {
        "id": "s3_FzhZ4YQ7J"
      },
      "outputs": [],
      "source": [
        "#inicializa la variable que guarda los radios del horizonte de eventos\n",
        "rValues=[]"
      ]
    },
    {
      "cell_type": "markdown",
      "metadata": {
        "id": "UGyc_uJcUKTT"
      },
      "source": [
        "# **Estructura del agujero negro**"
      ]
    },
    {
      "cell_type": "markdown",
      "metadata": {
        "id": "2BLJ6W3iea4Z"
      },
      "source": [
        "## **Horizonte de eventos**"
      ]
    },
    {
      "cell_type": "code",
      "execution_count": null,
      "metadata": {
        "id": "s_rP1fBX83QU"
      },
      "outputs": [],
      "source": [
        "#Inicialización de las variables\n",
        "mVal=1\n",
        "aVal=0.8\n",
        "alphaVal=0.01\n",
        "epsilonVal=0.5\n",
        "lambdaVal=0.5"
      ]
    },
    {
      "cell_type": "code",
      "execution_count": null,
      "metadata": {
        "id": "iyt1GR4B_iHp"
      },
      "outputs": [],
      "source": [
        "#Generar las distintas ecuaciones a resolver para cada punto en theta\n",
        "numDeDatos=1 #número de soluciones que queremos calcular, a mayor número de datos más se demora el código\n",
        "horizonEqs=[]\n",
        "string=f\"$M=${mVal}, $\\\\alpha=${alphaVal}, $a=${aVal}, $\\\\epsilon=${epsilonVal}, $\\\\Lambda =${lambdaVal}\"\n",
        "hev1=subs(hev0,mVal,aVal,epsilonVal,alphaVal,lambdaVal)\n",
        "thetaValues=np.linspace(0,1,numDeDatos)*math.pi/2\n",
        "for j in thetaValues:\n",
        "  horizonEqs.append(hev1.subs(theta,j))"
      ]
    },
    {
      "cell_type": "code",
      "execution_count": null,
      "metadata": {
        "id": "2o6Is7jS_oEI"
      },
      "outputs": [],
      "source": [
        "rValues=[]\n",
        "thetaValues0=[]\n",
        "for i in range(len(horizonEqs)):\n",
        "  #Método que devuelve las soluciones para cada ecuación dependiendo de theta\n",
        "  sol=list(filter(lambda l:type(l)==sympy.core.numbers.Float, solve(horizonEqs[i],r,check=False)))\n",
        "  if len(sol)!=0:\n",
        "    #Dado que el horizonte de eventos corresponde a la zona exterior de las soluciones se toma la solución real que sea mayor\n",
        "    rValues.append(max(sol))\n",
        "    thetaValues0=np.append(thetaValues0,thetaValues[i])\n",
        "\n",
        "thetaValues=thetaValues0"
      ]
    },
    {
      "cell_type": "markdown",
      "metadata": {
        "id": "-zblk7LXdLoA"
      },
      "source": [
        "## **Gráficar Horizonte de eventos**"
      ]
    },
    {
      "cell_type": "code",
      "execution_count": null,
      "metadata": {
        "id": "t8EZKw95OLuO"
      },
      "outputs": [],
      "source": [
        "#Dado que la métrica muestra simetría en phi, se ploteará la figura para 20 puntos en phi\n",
        "phiValues=np.linspace(0,1,10)*math.pi/2\n",
        "x,y,z=np.array([]),np.array([]),np.array([])\n",
        "numb=1\n",
        "for t in range(len(thetaValues)):\n",
        "  for i in range(len(phiValues)):\n",
        "    #Se transforman las coordenadas en coordenadas esféricas\n",
        "    y=np.append(y,rValues[t]*np.sin(thetaValues[t])*np.sin(phiValues[numb*i]))\n",
        "    x=np.append(x,rValues[t]*np.sin(thetaValues[t])*np.cos(phiValues[numb*i]))\n",
        "    z=np.append(z,rValues[t]*np.cos(thetaValues[t]))\n",
        "    numb*=-1\n",
        "#Las coordenadas cooresponden a un octante del horizonte de eventos debido a la simetría en el plano x-y y en phi.\n",
        "x,y,z=np.array([x]),np.array([y]),np.array([z])"
      ]
    },
    {
      "cell_type": "code",
      "execution_count": null,
      "metadata": {
        "colab": {
          "base_uri": "https://localhost:8080/",
          "height": 647
        },
        "id": "XYNll_kML2Qz",
        "outputId": "39b079ab-31dc-49a6-a979-4aa7ae8cc198"
      },
      "outputs": [
        {
          "output_type": "stream",
          "name": "stderr",
          "text": [
            "/usr/local/lib/python3.7/dist-packages/mpl_toolkits/mplot3d/art3d.py:304: VisibleDeprecationWarning: Creating an ndarray from ragged nested sequences (which is a list-or-tuple of lists-or-tuples-or ndarrays with different lengths or shapes) is deprecated. If you meant to do this, you must specify 'dtype=object' when creating the ndarray.\n",
            "  self._segments3d = np.asanyarray(segments)\n",
            "No handles with labels found to put in legend.\n"
          ]
        },
        {
          "output_type": "display_data",
          "data": {
            "text/plain": [
              "<Figure size 720x720 with 1 Axes>"
            ],
            "image/png": "[encoded data removed]"
          },
          "metadata": {
            "needs_background": "light"
          }
        }
      ],
      "source": [
        "from matplotlib import cm\n",
        "#Se inicia el entorno 3D de matplotlib\n",
        "fig = mp.figure()\n",
        "ax1 = fig.add_subplot(111,projection='3d')\n",
        "fig.set_figheight(10)\n",
        "fig.set_figwidth(10)\n",
        "\n",
        "#Se grafican los 8 octantes para formar la totalidad del horizonte\n",
        "mp.title(string)\n",
        "\n",
        "ax1.plot_wireframe(x, y, z)\n",
        "ax1.plot_wireframe(-x, -y, -z)\n",
        "ax1.plot_wireframe(-x, -y, z)\n",
        "ax1.plot_wireframe(-x, y, -z)\n",
        "ax1.plot_wireframe(x, -y, -z)\n",
        "ax1.plot_wireframe(-x, y, z)\n",
        "ax1.plot_wireframe(x, -y, z)\n",
        "ax1.plot_wireframe(x, y, -z)\n",
        "\n",
        "#ax1.view_init(0)\n",
        "\n",
        "ax1.set_xlabel('$x$')\n",
        "ax1.set_ylabel('$y$')\n",
        "ax1.set_zlabel('$z$')\n",
        "\n",
        "ax1.legend()\n",
        "mp.show()"
      ]
    },
    {
      "cell_type": "markdown",
      "metadata": {
        "id": "WtSmygrzyoTl"
      },
      "source": [
        "## Horizonte de eventos respecto de cada parámetro"
      ]
    },
    {
      "cell_type": "code",
      "execution_count": null,
      "metadata": {
        "id": "MFpFf0c6g06r"
      },
      "outputs": [],
      "source": [
        "#Se iniciaizan nuevas variables para ejecutar\n",
        "mVal1=1\n",
        "aVal1=0.4\n",
        "epsilonVal1=0\n",
        "lambdaVal1=[0]"
      ]
    },
    {
      "cell_type": "code",
      "execution_count": null,
      "metadata": {
        "id": "SPKZamhlyoTy"
      },
      "outputs": [],
      "source": [
        "#Se construye el vector de funciones a resolver\n",
        "horizonEqs1=[]\n",
        "alphaVal1=np.linspace(-1,1,100)\n",
        "counter=0\n",
        "for i in lambdaVal1:\n",
        "  horizonEqs1.append([])\n",
        "  hev2=hev0.subs(m,mVal1).subs(a,aVal1).subs(eps,epsilonVal1).subs(L,lambdaVal1[i]).subs(theta,pi/2)\n",
        "  for j in alphaVal1:\n",
        "    horizonEqs1[counter].append(hev2.subs(alpha,j))\n",
        "  counter+=1"
      ]
    },
    {
      "cell_type": "code",
      "execution_count": null,
      "metadata": {
        "id": "oWsbTZqyyoTz"
      },
      "outputs": [],
      "source": [
        "#Se encuentra el valor del horizonte de eventos para cada valor del parámetro que se quiere variar\n",
        "rValues1=[]\n",
        "parameter1=[]\n",
        "for j in range(len(lambdaVal1)):\n",
        "  rValues1.append([])\n",
        "  parameter1.append([])\n",
        "  for i in range(len(horizonEqs1[0])):\n",
        "    sol=list(filter(lambda l:type(l)==sympy.core.numbers.Float, solve(horizonEqs1[j][i],r,check=False)))\n",
        "    if len(sol)!=0:\n",
        "      rValues1[j].append(max(sol))\n",
        "      parameter1[j].append(alphaVal1[i])"
      ]
    },
    {
      "cell_type": "markdown",
      "metadata": {
        "id": "BBFEMqXajDQ0"
      },
      "source": [
        "### Graficar horizontes respecto de variables"
      ]
    },
    {
      "cell_type": "code",
      "execution_count": null,
      "metadata": {
        "id": "xMzTEW1nU3cC"
      },
      "outputs": [],
      "source": [
        "#Se grafican los resultados\n",
        "mp.plot(np.array(parameter1[0][0:50]),rValues1[0][0:50],\"k-\")\n",
        "mp.plot(np.array(parameter1[0][50:-1]),rValues1[0][50:-1],\"k-\")\n",
        "\n",
        "mp.xlabel(\"$\\\\alpha$\")\n",
        "mp.ylabel(\"$r_h$\")\n",
        "mp.ylim(0,90)\n",
        "string1=\"Radio del horizonte de eventos con $\\\\theta=\\\\frac{\\\\pi}{2}$, M=1, $\\\\Lambda=0$, $\\\\epsilon=0$\"\n",
        "mp.title(string1)\n",
        "mp.legend()\n",
        "mp.show()"
      ]
    },
    {
      "cell_type": "markdown",
      "metadata": {
        "id": "39Clg0ckWAri"
      },
      "source": [
        "## Ergósfera"
      ]
    },
    {
      "cell_type": "code",
      "execution_count": null,
      "metadata": {
        "id": "SOHdtYBAXvfY"
      },
      "outputs": [],
      "source": [
        "#Se evalúa la ergósfera en los valores definidos antes para cada parámetro\n",
        "erg1=subs(erg,mVal,aVal,epsilonVal,alphaVal,lambdaVal)\n",
        "erg1=erg1.expand()"
      ]
    },
    {
      "cell_type": "code",
      "execution_count": null,
      "metadata": {
        "id": "lf6gs4ebYwgH"
      },
      "outputs": [],
      "source": [
        "numDeDatosErgosfera=30\n",
        "#Número de ángulos donde se va a evaluar la ergósfera\n",
        "thetas=np.linspace(0,1,numDeDatosErgosfera)*math.pi\n",
        "ergoEqs=[]\n",
        "#Diferentes ecuaciones para la ergosfera dado theta\n",
        "for i in thetas:\n",
        "  ergoEqs.append(erg1.subs(theta,i))"
      ]
    },
    {
      "cell_type": "code",
      "execution_count": null,
      "metadata": {
        "id": "KKWAjS11ZFg4"
      },
      "outputs": [],
      "source": [
        "#Encuentra las soluciones para la ergósfera\n",
        "ergoRads=[]\n",
        "thetas0=[]\n",
        "sol1=lambda x:sympy.re(x)\n",
        "for i in range(len(ergoEqs)):\n",
        "  numbs=solve(ergoEqs[i],r,check=False)\n",
        "  sol=list(filter(lambda l:sympy.im(l)<1e-20, numbs))\n",
        "  for j in range(len(sol)):\n",
        "    sol[j]=sol1(sol[j])\n",
        "  if len(sol)!=0:\n",
        "    ergoRads.append(max(sol))\n",
        "    thetas0=np.append(thetas0,thetas[i])"
      ]
    },
    {
      "cell_type": "code",
      "execution_count": null,
      "metadata": {
        "id": "I6JMRN0aYymM"
      },
      "outputs": [],
      "source": [
        "#Si el horizonte de eventos ya se calculó plotea el horizonte de eventos junto con la ergósfera\n",
        "if len(rValues)!=0:\n",
        "  xh=np.array(rValues)*np.sin(np.array(thetaValues))\n",
        "  yh=np.array(rValues)*np.cos(np.array(thetaValues))\n",
        "else:\n",
        "  xh=[]\n",
        "  yh=[]"
      ]
    },
    {
      "cell_type": "code",
      "execution_count": null,
      "metadata": {
        "id": "wQqI0dQ2Zj_T",
        "colab": {
          "base_uri": "https://localhost:8080/",
          "height": 351
        },
        "outputId": "461b5045-d6e0-4cdf-aca9-d02d6f1b9f03"
      },
      "outputs": [
        {
          "output_type": "display_data",
          "data": {
            "text/plain": [
              "<Figure size 360x360 with 1 Axes>"
            ],
            "image/png": "[encoded data removed]"
          },
          "metadata": {
            "needs_background": "light"
          }
        }
      ],
      "source": [
        "#Plotear ergosfera y eventos si es posible\n",
        "x=np.array(ergoRads)*np.sin(np.array(thetas))\n",
        "y=np.array(ergoRads)*np.cos(np.array(thetas))\n",
        "mp.figure(figsize=(5,5))\n",
        "mp.plot(x,y,\"b-\",label=\"Ergósfera\")\n",
        "mp.plot(-x,y,\"b-\")\n",
        "if len(xh)!=0:\n",
        "  mp.plot(xh,yh,\"r-\",label=\"Horizonte de eventos\")\n",
        "  mp.plot(xh,-yh,\"r-\")\n",
        "  mp.plot(-xh,-yh,\"r-\")\n",
        "  mp.plot(-xh,yh,\"r-\")\n",
        "mp.title(string)\n",
        "mp.legend(bbox_to_anchor=(1.0, 1))\n",
        "mp.xlabel(\"$x$\")\n",
        "mp.ylabel(\"$y$\")\n",
        "mp.show()"
      ]
    },
    {
      "cell_type": "markdown",
      "metadata": {
        "id": "AKscKHd5jyMO"
      },
      "source": [
        "## ISCO y esféra de fotones"
      ]
    },
    {
      "cell_type": "markdown",
      "metadata": {
        "id": "o9j7HSMVAzvD"
      },
      "source": [
        "###Potenciales y variables necesarias"
      ]
    },
    {
      "cell_type": "code",
      "execution_count": null,
      "metadata": {
        "id": "U3_pl1a0FaP2"
      },
      "outputs": [],
      "source": [
        "#Definicion de los valores de los parametros de los que depende la metrica\n",
        "mVal=1\n",
        "alphaVal=0.01\n",
        "aVal=0.5\n",
        "epsilonVal=0.5\n",
        "lambdaVal=0.7\n",
        "subs0=lambda f:f.subs(m,mVal).subs(a,aVal).subs(alpha,alphaVal).subs(eps,epsilonVal).subs(L,lambdaVal).subs(theta,pi/2)"
      ]
    },
    {
      "cell_type": "code",
      "execution_count": null,
      "metadata": {
        "id": "DWevv01hBGLS"
      },
      "outputs": [],
      "source": [
        "g01=subs0(g0)"
      ]
    },
    {
      "cell_type": "code",
      "execution_count": null,
      "metadata": {
        "id": "fk0zdEx9KCpc"
      },
      "outputs": [],
      "source": [
        "# Derivadas de componentes de la métrica para definir la velocidad angular\n",
        "dr_g00=diff(g01[0][0],r)\n",
        "dr_g03=diff(g01[3][0],r)\n",
        "dr_g33=diff(g01[3][3],r)"
      ]
    },
    {
      "cell_type": "code",
      "execution_count": null,
      "metadata": {
        "id": "Bc_8ChzcA6fq"
      },
      "outputs": [],
      "source": [
        "#Velocidades angulares co y contrarrotantes\n",
        "Omega=[simplify((-dr_g03+sqrt((dr_g03)**2-dr_g00*dr_g33))/dr_g33),simplify((-dr_g03-sqrt((dr_g03)**2-dr_g00*dr_g33))/dr_g33)]"
      ]
    },
    {
      "cell_type": "code",
      "execution_count": null,
      "metadata": {
        "id": "WwC4JnFWCaRM"
      },
      "outputs": [],
      "source": [
        "# Definicion de constantes (Energia y momento angular por unidad de masa co y contrarrotantes)\n",
        "E,Lz=[],[]\n",
        "for o in Omega:\n",
        "  E.append((-(g01[0][0]+o*g01[0][3])/sqrt(-g01[0][0]-2*o*g01[0][3]-o**2*g01[3][3])))\n",
        "  Lz.append(((g01[0][3]+o*g01[3][3])/sqrt(-g01[0][0]-2*o*g01[0][3]-o**2*g01[3][3])))"
      ]
    },
    {
      "cell_type": "code",
      "execution_count": null,
      "metadata": {
        "id": "EcQxdjVtDktW"
      },
      "outputs": [],
      "source": [
        "#Definición del potencial efectivo y cálculo de su segunda derivada\n",
        "Veff=[]\n",
        "for i in range(2):\n",
        "  Veff.append(((E[i]**2*g01[3][3]+2*E[i]*Lz[i]*g01[0][3]+Lz[i]**2*g01[0][0])/(g01[0][3]**2-g01[0][0]*g01[3][3])-1/g01[1][1]))\n",
        "dr2_Veff=[]\n",
        "for j in Veff:\n",
        "  dr2_Veff.append((diff(diff(j,r),r)))"
      ]
    },
    {
      "cell_type": "code",
      "execution_count": null,
      "metadata": {
        "id": "1-MgnNUPE-_s"
      },
      "outputs": [],
      "source": [
        "# Definición de la ecuación para la esfera de fotones\n",
        "fotones=[]\n",
        "for i in Omega:\n",
        "  fotones.append(g01[0][0]+2*i*g01[0][3]+i**2*g01[3][3])"
      ]
    },
    {
      "cell_type": "markdown",
      "metadata": {
        "id": "HgjoruV8FVz1"
      },
      "source": [
        "### ISCO"
      ]
    },
    {
      "cell_type": "code",
      "execution_count": null,
      "metadata": {
        "id": "IexZ7FoHFVJC"
      },
      "outputs": [],
      "source": [
        "# Definicion de arreglos para graficar la funcion de ISCO con respecto al radio\n",
        "ISCO=[]\n",
        "for i in dr2_Veff:\n",
        "  ISCO.append(i)"
      ]
    },
    {
      "cell_type": "code",
      "execution_count": null,
      "metadata": {
        "id": "0HhSjp3EG0ZG"
      },
      "outputs": [],
      "source": [
        "# Calculo de la segunda derivada para diferentes radios y filtro de los valores imaginarios bajos en comparacion con su respectiva parte real\n",
        "rIsco=np.linspace(0,5,50)\n",
        "valIsco=[]\n",
        "counter=0\n",
        "for i in ISCO:\n",
        "  valIsco.append([])\n",
        "  for j in rIsco:\n",
        "    valIsco[counter].append([i.subs(r,j),j])\n",
        "  counter+=1\n",
        "\n",
        "valIsco[0]=list(filter(lambda x:type(x[0])!=sympy.core.numbers.NaN and sympy.im(x[0])<1e-10,valIsco[0]))\n",
        "valIsco[1]=list(filter(lambda x:type(x[0])!=sympy.core.numbers.NaN and sympy.im(x[0])<1e-10,valIsco[1]))\n",
        "valIsco[0]=list(map(lambda x:[sympy.re(x[0]),x[1]],valIsco[0]))\n",
        "valIsco[1]=list(map(lambda x:[sympy.re(x[0]),x[1]],valIsco[1]))"
      ]
    },
    {
      "cell_type": "code",
      "execution_count": null,
      "metadata": {
        "colab": {
          "base_uri": "https://localhost:8080/",
          "height": 282
        },
        "id": "3xAjAhAiQ9rO",
        "outputId": "9d17a48a-41dc-4c0f-ac7e-bcb0e061e1fb"
      },
      "outputs": [
        {
          "data": {
            "image/png": "[encoded data removed]",
            "text/plain": [
              "<Figure size 432x288 with 1 Axes>"
            ]
          },
          "metadata": {},
          "output_type": "display_data"
        }
      ],
      "source": [
        "y,x,y1,x1=[],[],[],[]\n",
        "for i in valIsco[0]:\n",
        "  x.append(i[1])\n",
        "  y.append(i[0])\n",
        "for j in valIsco[1]:\n",
        "  x1.append(j[1])\n",
        "  y1.append(j[0])\n",
        "\n",
        "mp.title(f\"$\\\\Lambda$={lambdaVal}, $\\\\alpha=${alphaVal}, $\\\\epsilon={epsilonVal}$, $M={mVal}$, $a=${aVal}\")\n",
        "mp.plot([0,5],[0,0],\"k--\")\n",
        "mp.plot([1.23342728781250,1.23342728781250],[-5,7],label=\"Horizonte de eventos\")\n",
        "mp.ylim(-5,7)\n",
        "mp.scatter(x,y,label=\"$\\\\Omega_{+}$\",s=2)\n",
        "mp.scatter(x1,y1,label=\"$\\\\Omega_{-}$\",s=2)\n",
        "mp.legend()\n",
        "mp.show()"
      ]
    },
    {
      "cell_type": "markdown",
      "metadata": {
        "id": "RxMaedFgdCfQ"
      },
      "source": [
        "### Orbita de Fotones"
      ]
    },
    {
      "cell_type": "code",
      "execution_count": null,
      "metadata": {
        "id": "bneuZFbxdGN_"
      },
      "outputs": [],
      "source": [
        "rFotones=np.linspace(0,5,100)\n",
        "valFotones=[]\n",
        "counter=0\n",
        "for i in fotones:\n",
        "  valFotones.append([])\n",
        "  for j in rIsco:\n",
        "    valFotones[counter].append([i.subs(r,j),j])\n",
        "  counter+=1"
      ]
    },
    {
      "cell_type": "code",
      "execution_count": null,
      "metadata": {
        "id": "OYwLhh7oo5wJ"
      },
      "outputs": [],
      "source": [
        "#Filtro de los valores imaginarios bajos en comparacion con su respectiva parte real\n",
        "valFotones[0]=list(filter(lambda x:type(x[0])!=sympy.core.numbers.NaN and sympy.im(x[0])<1e-10,valFotones[0]))\n",
        "valFotones[1]=list(filter(lambda x:type(x[0])!=sympy.core.numbers.NaN and sympy.im(x[0])<1e-10,valFotones[1]))\n",
        "valFotones[0]=list(map(lambda x:[sympy.re(x[0]),x[1]],valFotones[0]))\n",
        "valFotones[1]=list(map(lambda x:[sympy.re(x[0]),x[1]],valFotones[1]))"
      ]
    },
    {
      "cell_type": "code",
      "execution_count": null,
      "metadata": {
        "colab": {
          "base_uri": "https://localhost:8080/",
          "height": 282
        },
        "id": "CtQRCAoJpIMD",
        "outputId": "ada620bb-b543-4ebe-960f-2ed816e3cb94"
      },
      "outputs": [
        {
          "data": {
            "image/png": "[encoded data removed]",
            "text/plain": [
              "<Figure size 432x288 with 1 Axes>"
            ]
          },
          "metadata": {},
          "output_type": "display_data"
        }
      ],
      "source": [
        "yf,xf,yf1,xf1=[],[],[],[]\n",
        "for i in valFotones[0]:\n",
        "  xf.append(i[1])\n",
        "  yf.append(i[0])\n",
        "for j in valFotones[1]:\n",
        "  xf1.append(j[1])\n",
        "  yf1.append(j[0])\n",
        "mp.title(f\"$\\\\Lambda$={lambdaVal}, $\\\\alpha=${alphaVal}, $\\\\epsilon={epsilonVal}$, $M={mVal}$, $a=${aVal}\")\n",
        "mp.plot([0,5],[0,0],\"k--\")\n",
        "mp.plot([1.23342728781250,1.23342728781250],[-5,7],label=\"Horizonte de eventos\")\n",
        "mp.ylim(-5,7)\n",
        "mp.scatter(xf,yf,label=\"$\\\\Omega_{+}$\",s=2)\n",
        "mp.scatter(xf1,yf1,label=\"$\\\\Omega_{-}$\",s=2)\n",
        "mp.legend()\n",
        "mp.show()"
      ]
    },
    {
      "cell_type": "markdown",
      "metadata": {
        "id": "iR5B1JeYUW9k"
      },
      "source": [
        "# **Termodinámica del agujero negro**"
      ]
    },
    {
      "cell_type": "markdown",
      "metadata": {
        "id": "fneZZNdJdYDe"
      },
      "source": [
        "## **Area del Horizonte de eventos**"
      ]
    },
    {
      "cell_type": "code",
      "execution_count": null,
      "metadata": {
        "id": "hrOlqN8udiJm"
      },
      "outputs": [],
      "source": [
        "#Con el cálculo del horizonte de eventos se puede calcular el area de este, para luego calcular la entropía\n",
        "xa=rValues*np.sin(thetaValues)\n",
        "ya=rValues*np.cos(thetaValues)\n",
        "longitud=0\n",
        "area=0\n",
        "for i in range(len(xa)-1):\n",
        "  #Se calcula el area del horizonte de eventos aproximando dos anillos de la solución a un cono truncado y sumando sus areas superficiales\n",
        "  longitud+=math.sqrt((ya[i]-ya[i+1])**2+(xa[i]-xa[i+1])**2)\n",
        "  r2=xa[i]\n",
        "  r1=xa[i+1]\n",
        "  h=ya[i]-ya[i+1]\n",
        "  area+=np.pi*(r2**2+r1**2+math.sqrt(h**2+(r1-r2)**2)*(r1+r2))\n",
        "area*=1/2\n",
        "print(\"Longitud de la curva=\",longitud,\"\\\\\\\\ Area del horizonte de eventos=\",area,\"masa\",mVal)\n",
        "mp.figure(figsize=(5, 5))\n",
        "mp.plot(xa,ya)\n",
        "mp.show()"
      ]
    },
    {
      "cell_type": "code",
      "execution_count": null,
      "metadata": {
        "id": "GNTr3iwScC0c"
      },
      "outputs": [],
      "source": [
        "#Guarda los resultados en un .txt alojado en el drive del autor\n",
        "rad=open(\"/content/drive/My Drive/Universidad/Semestre 9/DatosIntTeo/EntropiaFisica3.txt\",\"a\")\n",
        "rad.write(string+\"\\n\")\n",
        "rad.write(\"Area = \"+str(area)+\"\\n\")\n",
        "rad.write(\"Longitud = \"+str(longitud)+\"\\n\")\n",
        "for i in range(len(rValues)):\n",
        "  rad.write(str(rValues[i])+\"\\t\"+str(thetaValues[i])+\"\\n\")\n",
        "rad.write(\"--------------------------------------------------\"+\"\\n\")\n",
        "rad.close()\n",
        "###No es necesario ejecutar esta celda##"
      ]
    },
    {
      "cell_type": "markdown",
      "metadata": {
        "id": "Z4vpIEC7eoDK"
      },
      "source": [
        "## **Gravedad Superficial**"
      ]
    },
    {
      "cell_type": "code",
      "execution_count": null,
      "metadata": {
        "id": "h_jyZoxTq0On"
      },
      "outputs": [],
      "source": [
        "#Se definen los intervalos de interes para la gravedad superficial respecto de la masa del agujeero negro\n",
        "mases=np.linspace(1,40,20)\n",
        "mases=np.append(mases,np.linspace(41,43,10))\n",
        "mases=np.append(mases,np.linspace(44,60,10))"
      ]
    },
    {
      "cell_type": "code",
      "execution_count": null,
      "metadata": {
        "id": "cEDkr0TxEoXK"
      },
      "outputs": [],
      "source": [
        "#Se varía para dos valores distintos de epsilon en este caso, pero este mismo método se puede usar para los demás parámetros, salvo la masa.\n",
        "epsilons=np.array([-10,10])*epsilonVal\n",
        "rHorizon=[]\n",
        "#una vez se tienen los parámetros definidos, se calcula el radio del horizonte de eventos en pi/2 para cada valor de masa y parámetro.\n",
        "for j in range(len(epsilons)):\n",
        "  rHorizon.append([])\n",
        "  for i in range(len(mases)):\n",
        "    eventHorizon=subs(hev0,mases[i],aVal,epsilonVal,alphaVal,lambdaVal).subs(theta,pi/2)\n",
        "    rHorizon[j].append(max(list(filter(lambda x:type(x)!=sympy.core.add.Add,solve(eventHorizon,r,check=False)))))"
      ]
    },
    {
      "cell_type": "code",
      "execution_count": null,
      "metadata": {
        "id": "idE1vAlNEr6d"
      },
      "outputs": [],
      "source": [
        "#Se define la gravedad superficial\n",
        "kappa=(O**2/(2*(1+h)*p))*sympy.diff((a**2-2*m*r+r**2)*(1-alpha*r)-(L/3)*(a**2+r**2)*r**2,r)\n",
        "kappa=kappa.subs(O,1-alpha*r*cos(theta)).subs(h,eps*m**3*r/p**2).subs(p,r**2+a**2*cos(theta)**2)\n",
        "kappa"
      ]
    },
    {
      "cell_type": "code",
      "execution_count": null,
      "metadata": {
        "id": "6Ub6vkBgIMXX"
      },
      "outputs": [],
      "source": [
        "gSup=[]\n",
        "#Se calcula cada valor para la gravedad superficial\n",
        "for j in range(len(epsilons)):\n",
        "  gSup.append([])\n",
        "  for i in range(len(mases)):\n",
        "    gAux=kappa.subs(m,mases[i]).subs(a,aVal).subs(alpha,alphaVal).subs(eps,epsilons[j]).subs(L,lambdaVal).subs(theta,pi/2)\n",
        "    gSup[j].append(gAux.subs(r,rHorizon[j][i]))\n",
        "gSup"
      ]
    },
    {
      "cell_type": "code",
      "execution_count": null,
      "metadata": {
        "id": "kem4DGJsIS7q"
      },
      "outputs": [],
      "source": [
        "#Finalmente se plotea el resultado final\n",
        "mp.plot([0,60],[0,0],\"k--\")\n",
        "sup=23\n",
        "mp.plot(mases[0:sup],(np.array(gSup[0])/(2*pi))[0:sup],\"r-\",label=f\"$\\\\epsilon = ${epsilons[0]}\")\n",
        "mp.plot(mases[sup+1:-1],(np.array(gSup[0])/(2*pi))[sup+1:-1],\"r-\")\n",
        "mp.plot(mases,np.array(gSup[1])/(2*pi),label=f\"$\\\\epsilon = ${epsilons[1]}\")\n",
        "mp.title(f\"$\\\\Lambda=${lambdaVal}, $a=${aVal}, $\\\\alpha=${alphaVal}\")\n",
        "mp.xlabel(\"$M$\")\n",
        "mp.ylabel(\"$T$\")\n",
        "mp.legend()\n",
        "mp.show()"
      ]
    }
  ],
  "metadata": {
    "colab": {
      "collapsed_sections": [
        "U7b58QzZ_2cK",
        "2BLJ6W3iea4Z",
        "-zblk7LXdLoA",
        "BBFEMqXajDQ0",
        "39Clg0ckWAri",
        "fneZZNdJdYDe",
        "Z4vpIEC7eoDK"
      ],
      "provenance": [],
      "include_colab_link": true
    },
    "kernelspec": {
      "display_name": "Python 3",
      "name": "python3"
    }
  },
  "nbformat": 4,
  "nbformat_minor": 0
}