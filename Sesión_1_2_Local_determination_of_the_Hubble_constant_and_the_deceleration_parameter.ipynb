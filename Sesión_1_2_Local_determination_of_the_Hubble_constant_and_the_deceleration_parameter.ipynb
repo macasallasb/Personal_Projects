{
  "nbformat": 4,
  "nbformat_minor": 0,
  "metadata": {
    "kernelspec": {
      "display_name": "Python 3",
      "language": "python",
      "name": "python3"
    },
    "language_info": {
      "codemirror_mode": {
        "name": "ipython",
        "version": 3
      },
      "file_extension": ".py",
      "mimetype": "text/x-python",
      "name": "python",
      "nbconvert_exporter": "python",
      "pygments_lexer": "ipython3",
      "version": "3.9.1"
    },
    "colab": {
      "provenance": [],
      "include_colab_link": true
    }
  },
  "cells": [
    {
      "cell_type": "markdown",
      "metadata": {
        "id": "view-in-github",
        "colab_type": "text"
      },
      "source": [
        "<a href=\"https://colab.research.google.com/github/macasallasb/Personal_Projects/blob/main/Sesi%C3%B3n_1_2_Local_determination_of_the_Hubble_constant_and_the_deceleration_parameter.ipynb\" target=\"_parent\"><img src=\"https://colab.research.google.com/assets/colab-badge.svg\" alt=\"Open In Colab\"/></a>"
      ]
    },
    {
      "cell_type": "markdown",
      "metadata": {
        "id": "zcgk6d7Ly8z8"
      },
      "source": [
        "<center>\n",
        "<img src=\"https://habrastorage.org/webt/jq/gc/r5/jqgcr5azmatev6zvgufn8xftehy.png\">\n",
        "    \n",
        "\n",
        "    \n",
        "# Análisis de datos cosmológicos y el problema de la constante de Hubble usando Python\n",
        "\n",
        "### Autor: Michael Casallas Beltran"
      ]
    },
    {
      "cell_type": "markdown",
      "metadata": {
        "tags": [],
        "id": "iB5HDXTvy80a"
      },
      "source": [
        "# <center> Sesión 1.2 Local determination of the Hubble constant and the deceleration parameter\n",
        "[arXiv:1906.11814](https://arxiv.org/abs/1906.11814)    \n",
        "\n",
        "\n",
        "# Outline\n",
        "1. [Magnitud absoluta de Supernovas](#1.-MB)\n",
        "2. [Analises SH0ES](#2.-SH0ES)\n",
        "3. [Determinacion local de $H_0$ y $q_0$](#3.-H0/q0)"
      ]
    },
    {
      "cell_type": "markdown",
      "metadata": {
        "id": "cRPZbw0Yy80e"
      },
      "source": [
        "<center>\n",
        "<img src=\"https://upload.wikimedia.org/wikipedia/commons/2/23/Cosmic_distance_ladder.jpg\">"
      ]
    },
    {
      "cell_type": "markdown",
      "metadata": {
        "id": "Hgxu-fbJy80g"
      },
      "source": [
        "## 1.-MB\n",
        "\n",
        "Observacion de la curva de luz de supernovas del Tipo Ia permite determinar $m_B$\n",
        "\n",
        "Necesitan ser calibradras para ofrecer distancias cosmologicas:\n",
        "\n",
        "$$m_B(z) = 5\\log_{10}\\frac{d_L(z)}{\\rm 1 Mpc}+25 + M_B$$"
      ]
    },
    {
      "cell_type": "code",
      "metadata": {
        "id": "8tErSR-ry80j"
      },
      "source": [
        "import matplotlib.pyplot as plt\n",
        "import numpy as np\n",
        "import pandas\n",
        "\n",
        "plt.rcParams['font.size'] = '18'"
      ],
      "execution_count": null,
      "outputs": []
    },
    {
      "cell_type": "code",
      "metadata": {
        "id": "HI9TrHHIzB7R",
        "colab": {
          "base_uri": "https://localhost:8080/"
        },
        "outputId": "79df79ba-42ca-447b-aee4-8d9c1edef10e"
      },
      "source": [
        "! pip install gdown\n",
        "import os\n",
        "if not 'datos_sesion1-2.tar.gz' in os.listdir():\n",
        "  ! gdown --id 1Xiw04RSjKvdOjLB7BQxFNVgH54yh5RRp --output datos_sesion1-2.tar.gz\n",
        "  ! tar -xvf datos_sesion1-2.tar.gz"
      ],
      "execution_count": null,
      "outputs": [
        {
          "output_type": "stream",
          "text": [
            "Requirement already satisfied: gdown in /usr/local/lib/python3.7/dist-packages (3.6.4)\n",
            "Requirement already satisfied: tqdm in /usr/local/lib/python3.7/dist-packages (from gdown) (4.41.1)\n",
            "Requirement already satisfied: six in /usr/local/lib/python3.7/dist-packages (from gdown) (1.15.0)\n",
            "Requirement already satisfied: requests in /usr/local/lib/python3.7/dist-packages (from gdown) (2.23.0)\n",
            "Requirement already satisfied: urllib3!=1.25.0,!=1.25.1,<1.26,>=1.21.1 in /usr/local/lib/python3.7/dist-packages (from requests->gdown) (1.24.3)\n",
            "Requirement already satisfied: certifi>=2017.4.17 in /usr/local/lib/python3.7/dist-packages (from requests->gdown) (2020.12.5)\n",
            "Requirement already satisfied: chardet<4,>=3.0.2 in /usr/local/lib/python3.7/dist-packages (from requests->gdown) (3.0.4)\n",
            "Requirement already satisfied: idna<3,>=2.5 in /usr/local/lib/python3.7/dist-packages (from requests->gdown) (2.10)\n",
            "Downloading...\n",
            "From: https://drive.google.com/uc?id=1Xiw04RSjKvdOjLB7BQxFNVgH54yh5RRp\n",
            "To: /content/datos_sesion1-2.tar.gz\n",
            "100% 172k/172k [00:00<00:00, 62.9MB/s]\n",
            "datos_sesion1-2/\n",
            "datos_sesion1-2/Pantheon-low/\n",
            "datos_sesion1-2/Pantheon-low/cov_low-sne.dat\n",
            "datos_sesion1-2/Pantheon-low/low-sne.txt\n"
          ],
          "name": "stdout"
        }
      ]
    },
    {
      "cell_type": "code",
      "metadata": {
        "colab": {
          "base_uri": "https://localhost:8080/",
          "height": 301
        },
        "id": "mnwv3l8Ry80o",
        "outputId": "f80e26d9-1f42-4b5c-d35a-80e7ba383573"
      },
      "source": [
        "sne_datos = pandas.read_table('datos_sesion1-2/Pantheon-low/low-sne.txt',sep='\\t')\n",
        "\n",
        "cov_sne = pandas.read_table('datos_sesion1-2/Pantheon-low/cov_low-sne.dat')\n",
        "cov_sne = np.array(cov_sne).reshape((237, 237))\n",
        "\n",
        "sne_datos.head()"
      ],
      "execution_count": null,
      "outputs": [
        {
          "output_type": "execute_result",
          "data": {
            "text/html": [
              "<div>\n",
              "<style scoped>\n",
              "    .dataframe tbody tr th:only-of-type {\n",
              "        vertical-align: middle;\n",
              "    }\n",
              "\n",
              "    .dataframe tbody tr th {\n",
              "        vertical-align: top;\n",
              "    }\n",
              "\n",
              "    .dataframe thead th {\n",
              "        text-align: right;\n",
              "    }\n",
              "</style>\n",
              "<table border=\"1\" class=\"dataframe\">\n",
              "  <thead>\n",
              "    <tr style=\"text-align: right;\">\n",
              "      <th></th>\n",
              "      <th>#name</th>\n",
              "      <th>zcmb</th>\n",
              "      <th>zhel</th>\n",
              "      <th>dz</th>\n",
              "      <th>mb</th>\n",
              "      <th>dmb</th>\n",
              "      <th>x1</th>\n",
              "      <th>dx1</th>\n",
              "      <th>color</th>\n",
              "      <th>dcolor</th>\n",
              "      <th>3rdvar</th>\n",
              "      <th>d3rdvar</th>\n",
              "      <th>cov_m_s</th>\n",
              "      <th>cov_m_c</th>\n",
              "      <th>cov_s_c</th>\n",
              "      <th>set</th>\n",
              "      <th>ra</th>\n",
              "      <th>dec</th>\n",
              "      <th>biascor</th>\n",
              "    </tr>\n",
              "  </thead>\n",
              "  <tbody>\n",
              "    <tr>\n",
              "      <th>0</th>\n",
              "      <td>06D2fb</td>\n",
              "      <td>0.12531</td>\n",
              "      <td>0.12531</td>\n",
              "      <td>0.0</td>\n",
              "      <td>19.46840</td>\n",
              "      <td>0.10355</td>\n",
              "      <td>0</td>\n",
              "      <td>0</td>\n",
              "      <td>0</td>\n",
              "      <td>0</td>\n",
              "      <td>0</td>\n",
              "      <td>0</td>\n",
              "      <td>0</td>\n",
              "      <td>0</td>\n",
              "      <td>0</td>\n",
              "      <td>0</td>\n",
              "      <td>0</td>\n",
              "      <td>0</td>\n",
              "      <td>NaN</td>\n",
              "    </tr>\n",
              "    <tr>\n",
              "      <th>1</th>\n",
              "      <td>744</td>\n",
              "      <td>0.12679</td>\n",
              "      <td>0.12679</td>\n",
              "      <td>0.0</td>\n",
              "      <td>19.54290</td>\n",
              "      <td>0.11965</td>\n",
              "      <td>0</td>\n",
              "      <td>0</td>\n",
              "      <td>0</td>\n",
              "      <td>0</td>\n",
              "      <td>0</td>\n",
              "      <td>0</td>\n",
              "      <td>0</td>\n",
              "      <td>0</td>\n",
              "      <td>0</td>\n",
              "      <td>0</td>\n",
              "      <td>0</td>\n",
              "      <td>0</td>\n",
              "      <td>NaN</td>\n",
              "    </tr>\n",
              "    <tr>\n",
              "      <th>2</th>\n",
              "      <td>1241</td>\n",
              "      <td>0.08859</td>\n",
              "      <td>0.08859</td>\n",
              "      <td>0.0</td>\n",
              "      <td>18.64345</td>\n",
              "      <td>0.10605</td>\n",
              "      <td>0</td>\n",
              "      <td>0</td>\n",
              "      <td>0</td>\n",
              "      <td>0</td>\n",
              "      <td>0</td>\n",
              "      <td>0</td>\n",
              "      <td>0</td>\n",
              "      <td>0</td>\n",
              "      <td>0</td>\n",
              "      <td>0</td>\n",
              "      <td>0</td>\n",
              "      <td>0</td>\n",
              "      <td>NaN</td>\n",
              "    </tr>\n",
              "    <tr>\n",
              "      <th>3</th>\n",
              "      <td>1371</td>\n",
              "      <td>0.11782</td>\n",
              "      <td>0.11782</td>\n",
              "      <td>0.0</td>\n",
              "      <td>19.19345</td>\n",
              "      <td>0.09910</td>\n",
              "      <td>0</td>\n",
              "      <td>0</td>\n",
              "      <td>0</td>\n",
              "      <td>0</td>\n",
              "      <td>0</td>\n",
              "      <td>0</td>\n",
              "      <td>0</td>\n",
              "      <td>0</td>\n",
              "      <td>0</td>\n",
              "      <td>0</td>\n",
              "      <td>0</td>\n",
              "      <td>0</td>\n",
              "      <td>NaN</td>\n",
              "    </tr>\n",
              "    <tr>\n",
              "      <th>4</th>\n",
              "      <td>1794</td>\n",
              "      <td>0.14055</td>\n",
              "      <td>0.14055</td>\n",
              "      <td>0.0</td>\n",
              "      <td>19.87100</td>\n",
              "      <td>0.11635</td>\n",
              "      <td>0</td>\n",
              "      <td>0</td>\n",
              "      <td>0</td>\n",
              "      <td>0</td>\n",
              "      <td>0</td>\n",
              "      <td>0</td>\n",
              "      <td>0</td>\n",
              "      <td>0</td>\n",
              "      <td>0</td>\n",
              "      <td>0</td>\n",
              "      <td>0</td>\n",
              "      <td>0</td>\n",
              "      <td>NaN</td>\n",
              "    </tr>\n",
              "  </tbody>\n",
              "</table>\n",
              "</div>"
            ],
            "text/plain": [
              "    #name     zcmb     zhel   dz        mb  ...  cov_s_c  set  ra  dec  biascor\n",
              "0  06D2fb  0.12531  0.12531  0.0  19.46840  ...        0    0   0    0      NaN\n",
              "1     744  0.12679  0.12679  0.0  19.54290  ...        0    0   0    0      NaN\n",
              "2    1241  0.08859  0.08859  0.0  18.64345  ...        0    0   0    0      NaN\n",
              "3    1371  0.11782  0.11782  0.0  19.19345  ...        0    0   0    0      NaN\n",
              "4    1794  0.14055  0.14055  0.0  19.87100  ...        0    0   0    0      NaN\n",
              "\n",
              "[5 rows x 19 columns]"
            ]
          },
          "metadata": {
            "tags": []
          },
          "execution_count": 4
        }
      ]
    },
    {
      "cell_type": "code",
      "metadata": {
        "id": "Abo4eXC-y80v",
        "colab": {
          "base_uri": "https://localhost:8080/"
        },
        "outputId": "2cf29c59-6edd-4c38-bded-9a9007b9e3a9"
      },
      "source": [
        "z_sne = np.array(sne_datos['zcmb'])\n",
        "mb_sne = np.array(sne_datos['mb'])\n",
        "dmb_sne = np.array(sne_datos['dmb'])\n",
        "\n",
        "# z_sne = sne_datos['zcmb']\n",
        "# mb_sne = sne_datos['mb']\n",
        "# dmb_sne = sne_datos['dmb']\n",
        "\n",
        "cov_sne_tot = cov_sne + np.diag(sne_datos['dmb'])**2\n",
        "inv_cov_sne = np.linalg.inv(cov_sne_tot)\n",
        "\n",
        "print('zmin, zmax: %.4f, %.4f'%(np.min(z_sne),np.max(z_sne)))"
      ],
      "execution_count": null,
      "outputs": [
        {
          "output_type": "stream",
          "text": [
            "zmin, zmax: 0.0235, 0.1495\n"
          ],
          "name": "stdout"
        }
      ]
    },
    {
      "cell_type": "markdown",
      "metadata": {
        "id": "wkc1bIBGy80z"
      },
      "source": [
        "Asumiendo un prior Gaussiano en $M_B = \\mathcal{N}\\left({\\hat{M}_B,\\sigma_{M}}\\right)$ y dada la forma espcial de la likelihood es posible convertir la posterior en $H_0$ en un prior en $M_B$\n",
        "\n",
        "$$\\hat{H}_0 = \\exp(\\mu_{\\ln} + 0.5\\sigma^2_{\\ln})$$\n",
        "\n",
        "$$\\sigma_H^2 = \\exp(2\\mu_{\\ln} + \\sigma^2_{\\ln})\\left(\\exp \\sigma^2_{\\ln} - 1\\right)$$\n",
        "\n",
        "$$ \\mu_{\\ln} = \\frac{\\ln 10}{5} \\left[ \\hat{M}_B + \\frac{\\ln 10}{5} \\left( \\sigma^2_M + \\frac{1}{S_0} \\right) - \\frac{S_1}{S_0} \\right]$$\n",
        "\n",
        "$$ \\sigma_{\\ln} =\\frac{\\ln 10}{5} \\sqrt{\\sigma^2_M + \\frac{1}{S_0}}$$\n",
        "\n",
        "Donde $S_0$ y $S_1$ siguen:\n",
        "\n",
        "$$S_0 = V_i C^{-1}_{ij} V_j \\,, \\,\\,\\,\\, S_1= W_i C^{-1}_{ij} V_j$$\n",
        "\n",
        "$$W_i = m_{B,i} - x_B(z_i)\\,,\\,\\,\\, V_i = 1 \\,,\\,\\, x_B(z_i) = 5\\log_{10}\\left(cz\\left[1+\\frac{1}{2}(1-q_0)z-\\frac{1}{6}(1-q_0-3q_0^2+j_0)z^2\\right]\\right) + 25$$"
      ]
    },
    {
      "cell_type": "code",
      "metadata": {
        "id": "6iO5qP-ay802"
      },
      "source": [
        "from scipy import constants\n",
        "cc = constants.c/1000."
      ],
      "execution_count": null,
      "outputs": []
    },
    {
      "cell_type": "markdown",
      "metadata": {
        "id": "80iLqZd4Tkkg"
      },
      "source": [
        "Calcula S_0 y S_1"
      ]
    },
    {
      "cell_type": "code",
      "metadata": {
        "id": "ewSRakc7Jyed"
      },
      "source": [
        "def mBtilde(z):\n",
        "  q0 = -0.55\n",
        "  j0 = 1.\n",
        "  term1 = 0.5*(1-q0)*z\n",
        "  term2 = -(1-q0-3*q0**2+j0)*z**2/6.\n",
        "  mBt = 5*np.log10(cc*z*(1+term1+term2)) + 25\n",
        "  return mBt"
      ],
      "execution_count": null,
      "outputs": []
    },
    {
      "cell_type": "code",
      "metadata": {
        "colab": {
          "base_uri": "https://localhost:8080/"
        },
        "id": "r9887JsaLPga",
        "outputId": "c00d9b7e-44c2-4123-a6bf-d2599cd3aa32"
      },
      "source": [
        "V_i = np.ones(len(inv_cov_sne))\n",
        "S0 = np.dot(np.dot(V_i,inv_cov_sne),V_i)\n",
        "\n",
        "W_i = mb_sne - mBtilde(z_sne)\n",
        "S1 = np.dot(np.dot(W_i,inv_cov_sne),V_i)\n",
        "print(S0,S1)"
      ],
      "execution_count": null,
      "outputs": [
        {
          "output_type": "stream",
          "text": [
            "10689.40997018274 -305342.85709496\n"
          ],
          "name": "stdout"
        }
      ]
    },
    {
      "cell_type": "markdown",
      "metadata": {
        "id": "QIv1CG77TqKz"
      },
      "source": [
        "Usando como posterior $H_0 = \\mathcal{N}({73.5,1.4})$ [Ried et al., 2019](https://arxiv.org/abs/1908.05625) calcula el prior en $M_B$"
      ]
    },
    {
      "cell_type": "code",
      "metadata": {
        "id": "CwP79sYWy81C"
      },
      "source": [
        "H0_ini = 73.5\n",
        "sig_H0_ini = 1.4"
      ],
      "execution_count": null,
      "outputs": []
    },
    {
      "cell_type": "code",
      "metadata": {
        "id": "q_9EaxmIMDOh"
      },
      "source": [
        "def mu_lnH(MB_p, sigma_M_p):\n",
        "    mu = 0.2*np.log(10)*(MB_p - S1/S0 + (1/S0 + sigma_M_p**2)*0.2*np.log(10))\n",
        "    return mu\n",
        "\n",
        "def sigma_lnH(MB_p, sigma_M_p):\n",
        "    sig = 0.2*np.log(10)*np.sqrt(1/S0+sigma_M_p**2)\n",
        "    return sig"
      ],
      "execution_count": null,
      "outputs": []
    },
    {
      "cell_type": "code",
      "metadata": {
        "id": "6QFSoOAUNPFB"
      },
      "source": [
        "def media_H(MB_p, sigma_M_p):\n",
        "    mean = np.exp(mu_lnH(MB_p, sigma_M_p) + 0.5*sigma_lnH(MB_p, sigma_M_p)**2)\n",
        "    return mean\n",
        "\n",
        "def varia_H(MB_p, sigma_M_p):\n",
        "    var = np.exp(2*mu_lnH(MB_p, sigma_M_p)+sigma_lnH(MB_p, sigma_M_p)**2)*(-1+np.exp(sigma_lnH(MB_p, sigma_M_p)**2))\n",
        "    return var"
      ],
      "execution_count": null,
      "outputs": []
    },
    {
      "cell_type": "code",
      "metadata": {
        "id": "keCFPvbnNciy"
      },
      "source": [
        "def sol_MB_prior(vec):\n",
        "    MB_p, sigma_M_p = vec\n",
        "    ecua1 = media_H(MB_p, sigma_M_p) - H0_ini\n",
        "    ecua2 = varia_H(MB_p, sigma_M_p) - sig_H0_ini**2\n",
        "    return [ecua1,ecua2]"
      ],
      "execution_count": null,
      "outputs": []
    },
    {
      "cell_type": "code",
      "metadata": {
        "id": "XY8ryutgOHTs"
      },
      "source": [
        "from scipy import optimize\n",
        "MB_fin, sigma_MB_fin =optimize.fsolve(sol_MB_prior,[-19,0.04])"
      ],
      "execution_count": null,
      "outputs": []
    },
    {
      "cell_type": "code",
      "metadata": {
        "colab": {
          "base_uri": "https://localhost:8080/"
        },
        "id": "jjwJqyrcOPmK",
        "outputId": "17125f65-1913-4f7e-bf0b-334f708d29e3"
      },
      "source": [
        "print(MB_fin, sigma_MB_fin)"
      ],
      "execution_count": null,
      "outputs": [
        {
          "output_type": "stream",
          "text": [
            "-19.23473186817753 0.04021073104604428\n"
          ],
          "name": "stdout"
        }
      ]
    },
    {
      "cell_type": "markdown",
      "metadata": {
        "id": "oNinRr04Orom"
      },
      "source": [
        "$$p(M_B) = \\mathcal{N} (-19.234,0.0402)$$"
      ]
    },
    {
      "cell_type": "markdown",
      "metadata": {
        "tags": [],
        "id": "mHxbkfLjy81J"
      },
      "source": [
        "## 2.-SH0ES\n",
        "\n",
        "Analisis independiente del modelo a traves de expansion cosmografica ([gr-qc/0411131](https://arxiv.org/abs/gr-qc/0411131)):\n",
        "\n",
        "$$d_L(z) = \\frac{cz}{H_0} \\left\\lbrace 1+\\frac{1}{2}(1-q_0)z-\\frac{1}{6}(1-q_0-3q_0^2+j_0)z^2 + \\mathcal{O}(z^3) \\right\\rbrace$$\n",
        "\n",
        "$$m_B(z) = m_B(z,H_0,q_0,j_0,...)$$\n",
        "\n",
        "Analisis de SH0ES asume $q_0 = -0.55$ y $j_0 = 1.$ (valores obtenidos con $\\Lambda$CDM)"
      ]
    },
    {
      "cell_type": "code",
      "metadata": {
        "id": "R62l8IgrPgF1"
      },
      "source": [
        "def cosmografia_dL(z,H0,q0,j0=None):\n",
        "  term1 = 0.5*(1.-q0)*z\n",
        "  if j0==None:\n",
        "    term2 = 0.\n",
        "  else:\n",
        "    term2 = -(1.0 - q0-3*q0**2+j0)*z**2/6.\n",
        "  dL = cc*z*(1+term1+term2)/H0\n",
        "  return dL"
      ],
      "execution_count": null,
      "outputs": []
    },
    {
      "cell_type": "code",
      "metadata": {
        "colab": {
          "base_uri": "https://localhost:8080/"
        },
        "id": "vSlJ1mnAQQPC",
        "outputId": "b8707fec-76c6-41b0-9e36-1fd736b985d8"
      },
      "source": [
        "cosmografia_dL(z=0.5,H0=70,q0=-0.5,j0=1.0)"
      ],
      "execution_count": null,
      "outputs": [
        {
          "output_type": "execute_result",
          "data": {
            "text/plain": [
              "2788.2483072916666"
            ]
          },
          "metadata": {
            "tags": []
          },
          "execution_count": 44
        }
      ]
    },
    {
      "cell_type": "code",
      "metadata": {
        "id": "MkQBhuBgQjZc"
      },
      "source": [
        "def cosmografia_mB_sh0es(vec):\n",
        "  H0, MB = vec\n",
        "  q0 = -0.55\n",
        "  j0 =1.0\n",
        "  cosmom  = 5*np.log10(cosmografia_dL(z_sne,H0,q0,j0)) +25 + MB\n",
        "  return cosmom"
      ],
      "execution_count": null,
      "outputs": []
    },
    {
      "cell_type": "markdown",
      "metadata": {
        "id": "TbRPvkpjy81M"
      },
      "source": [
        "Define la distancia de luminosidad usando la expansion cosmografica. Realiza un grafico para redshifts $z = [0.,0.15]$ considerando dos casos $\\left\\lbrace q_0 = -0.55, j0 = 1\\right\\rbrace$ y $\\left\\lbrace  q_0 = -0.75, j_0 = 1.2\\right\\rbrace$ ($H_0 = 70$ para ambos casos)"
      ]
    },
    {
      "cell_type": "code",
      "metadata": {
        "colab": {
          "base_uri": "https://localhost:8080/",
          "height": 539
        },
        "id": "w_wcW9OTRl8P",
        "outputId": "5362e735-13fb-4a2c-beaa-abf7bb0cc6a3"
      },
      "source": [
        "fig, ax = plt.subplots(1,1,figsize=(10,8))\n",
        "\n",
        "ax.plot(z_sne,cosmografia_mB_sh0es([70.,-19.5]),'.')\n",
        "ax.errorbar(z_sne,mb_sne,dmb_sne,ls=' ')\n",
        "\n",
        "ax.set_xlabel(r'$z$')\n",
        "ax.set_ylabel(r'$m_B(z)$')"
      ],
      "execution_count": null,
      "outputs": [
        {
          "output_type": "execute_result",
          "data": {
            "text/plain": [
              "Text(0, 0.5, '$m_B(z)$')"
            ]
          },
          "metadata": {
            "tags": []
          },
          "execution_count": 49
        },
        {
          "output_type": "display_data",
          "data": {
            "image/png": "[encoded data removed]",
            "text/plain": [
              "<Figure size 720x576 with 1 Axes>"
            ]
          },
          "metadata": {
            "tags": [],
            "needs_background": "light"
          }
        }
      ]
    },
    {
      "cell_type": "markdown",
      "metadata": {
        "id": "UZOc1PpKy81Q"
      },
      "source": [
        "Construye $\\chi^2$ para supernovas usando la expansion cosmografica. Calcula el caso de $H_0 = 73$, $q_0 = -0.55$ y $j_0 = 1.$"
      ]
    },
    {
      "cell_type": "code",
      "metadata": {
        "id": "IK7VojSARyhv"
      },
      "source": [
        "def chi2_sn(theta_vec):\n",
        "    mB_theo = cosmografia_mB_sh0es(theta_vec)\n",
        "    diff = mb_sne - mB_theo\n",
        "    chi2sn = np.dot(np.dot(diff,inv_cov_sne),diff)\n",
        "    return chi2sn\n",
        "\n",
        "log_lkl_sn = lambda theta_vec: -0.5*chi2_sn(theta_vec)"
      ],
      "execution_count": null,
      "outputs": []
    },
    {
      "cell_type": "code",
      "metadata": {
        "colab": {
          "base_uri": "https://localhost:8080/"
        },
        "id": "GjXv7uu6SUGI",
        "outputId": "21d5f05a-887c-420d-adb6-2561fbf957b0"
      },
      "source": [
        "chi2_sn([70.,-19])"
      ],
      "execution_count": null,
      "outputs": [
        {
          "output_type": "execute_result",
          "data": {
            "text/plain": [
              "1467.0664941247"
            ]
          },
          "metadata": {
            "tags": []
          },
          "execution_count": 51
        }
      ]
    },
    {
      "cell_type": "code",
      "metadata": {
        "id": "97r7pc5fSd6x"
      },
      "source": [
        "def log_prior_MB(theta_vec):\n",
        "  H0,MB = theta_vec\n",
        "  logpM = -0.5*(MB-MB_fin)**2/sigma_MB_fin**2\n",
        "  return logpM"
      ],
      "execution_count": null,
      "outputs": []
    },
    {
      "cell_type": "code",
      "metadata": {
        "id": "f0WhzYlcTLNB"
      },
      "source": [
        "H0max = 78\n",
        "H0min = 64\n",
        "MBmin=-19.7\n",
        "MBmax=-18.8\n",
        "\n",
        "\n",
        "def log_flat_prior(theta_vec):\n",
        "    H0,MB=theta_vec\n",
        "    if not (H0min<=H0<=H0max):\n",
        "        return -np.inf\n",
        "    elif not (MBmin<=MB<=MBmax):\n",
        "        return -np.inf\n",
        "    else:\n",
        "        return 0.0\n",
        "\n",
        "def log_likelihood(theta_vec):\n",
        "    H0,MB=theta_vec\n",
        "    loglikelihood = log_lkl_sn(theta_vec) + log_flat_prior(theta_vec) + log_prior_MB(theta_vec)\n",
        "    return loglikelihood"
      ],
      "execution_count": null,
      "outputs": []
    },
    {
      "cell_type": "code",
      "metadata": {
        "colab": {
          "base_uri": "https://localhost:8080/"
        },
        "id": "_Bbg2typUECc",
        "outputId": "a0dc5b14-d936-49da-e126-4abd3122ddf7"
      },
      "source": [
        "log_likelihood([H0min-1e-12,MBmin-1e-12]),log_likelihood([H0max+1e-12,MBmax+1e-12])"
      ],
      "execution_count": null,
      "outputs": [
        {
          "output_type": "execute_result",
          "data": {
            "text/plain": [
              "(-inf, -inf)"
            ]
          },
          "metadata": {
            "tags": []
          },
          "execution_count": 56
        }
      ]
    },
    {
      "cell_type": "code",
      "metadata": {
        "colab": {
          "base_uri": "https://localhost:8080/"
        },
        "id": "Op2p7nhhUX3g",
        "outputId": "a70888f7-cbef-4ad8-d98f-5c52703e0414"
      },
      "source": [
        "primer_bf = np.array([73.5,-19.4])\n",
        "%timeit log_likelihood(primer_bf)"
      ],
      "execution_count": null,
      "outputs": [
        {
          "output_type": "stream",
          "text": [
            "The slowest run took 15.29 times longer than the fastest. This could mean that an intermediate result is being cached.\n",
            "10000 loops, best of 5: 76.1 µs per loop\n"
          ],
          "name": "stdout"
        }
      ]
    },
    {
      "cell_type": "code",
      "metadata": {
        "colab": {
          "base_uri": "https://localhost:8080/"
        },
        "id": "cfnC3dwDUnwk",
        "outputId": "dc71d1d2-794e-4265-e390-c7fd7c2e3f6e"
      },
      "source": [
        "%timeit chi2_sn(primer_bf)"
      ],
      "execution_count": null,
      "outputs": [
        {
          "output_type": "stream",
          "text": [
            "The slowest run took 38.82 times longer than the fastest. This could mean that an intermediate result is being cached.\n",
            "10000 loops, best of 5: 63.6 µs per loop\n"
          ],
          "name": "stdout"
        }
      ]
    },
    {
      "cell_type": "markdown",
      "metadata": {
        "id": "Gqoi1Vfxy81V"
      },
      "source": [
        "## 2.a- emcee: Affine Invariant Markov chain Monte Carlo (MCMC) Ensemble sampler\n",
        "[Codigo disponible aqui](https://emcee.readthedocs.io/en/stable/)\n",
        "\n",
        "<center>\n",
        "<img src=\"https://miro.medium.com/max/1838/1*QdYUe-nZYZnOfj_Oqt9CHw.jpeg\">"
      ]
    },
    {
      "cell_type": "code",
      "metadata": {
        "id": "AMLLHU9oy81V",
        "colab": {
          "base_uri": "https://localhost:8080/"
        },
        "outputId": "958398ee-d073-44f2-8289-5b8d524f6796"
      },
      "source": [
        "! pip install emcee\n",
        "import emcee\n",
        "\n",
        "ncaminantes = 32\n",
        "npasos = 25000 # 250000\n",
        "burn_in = 500\n",
        "\n",
        "punto_ini = primer_bf + 1e-3*np.random.randn(ncaminantes, len(primer_bf))"
      ],
      "execution_count": null,
      "outputs": [
        {
          "output_type": "stream",
          "text": [
            "Requirement already satisfied: emcee in /usr/local/lib/python3.7/dist-packages (3.0.2)\n",
            "Requirement already satisfied: numpy in /usr/local/lib/python3.7/dist-packages (from emcee) (1.19.5)\n"
          ],
          "name": "stdout"
        }
      ]
    },
    {
      "cell_type": "code",
      "metadata": {
        "id": "3iMBLe3Vy81W"
      },
      "source": [
        "sampler_shoes = emcee.EnsembleSampler(ncaminantes, 2, log_likelihood)\n",
        "\n",
        "nuevo_ini = sampler_shoes.run_mcmc(punto_ini, burn_in)\n",
        "sampler_shoes.reset()"
      ],
      "execution_count": null,
      "outputs": []
    },
    {
      "cell_type": "code",
      "metadata": {
        "id": "v_T26iNIy81W",
        "colab": {
          "base_uri": "https://localhost:8080/"
        },
        "outputId": "97349810-53bb-4fb7-96a1-38fd185b98dd"
      },
      "source": [
        "import time\n",
        "\n",
        "t0 = time.time()\n",
        "\n",
        "sampler_shoes.run_mcmc(nuevo_ini, npasos)\n",
        "\n",
        "t1 = time.time()\n",
        "(t1-t0)/60"
      ],
      "execution_count": null,
      "outputs": [
        {
          "output_type": "execute_result",
          "data": {
            "text/plain": [
              "1.4915082732836404"
            ]
          },
          "metadata": {
            "tags": []
          },
          "execution_count": 65
        }
      ]
    },
    {
      "cell_type": "code",
      "metadata": {
        "colab": {
          "base_uri": "https://localhost:8080/"
        },
        "id": "pzcSrw-WWg5d",
        "outputId": "ecea26c7-509d-48b5-877f-818a42ec239c"
      },
      "source": [
        "sampler_shoes.get_chain(flat=True,thin=2).shape"
      ],
      "execution_count": null,
      "outputs": [
        {
          "output_type": "execute_result",
          "data": {
            "text/plain": [
              "(400000, 2)"
            ]
          },
          "metadata": {
            "tags": []
          },
          "execution_count": 71
        }
      ]
    },
    {
      "cell_type": "code",
      "metadata": {
        "id": "C_H5RfGoy81X"
      },
      "source": [
        "samples_shoes = sampler_shoes.get_chain(flat=True,thin=2)\n",
        "loglikes_shoes = sampler_shoes.get_log_prob(flat=True,thin=2)"
      ],
      "execution_count": null,
      "outputs": []
    },
    {
      "cell_type": "markdown",
      "metadata": {
        "id": "TVugBzvay81Y"
      },
      "source": [
        "## 2.b- GetDist: Python package for analysing and plotting MonteCarlo samples\n",
        "[Codigo disponible aqui](https://getdist.readthedocs.io/en/latest/)\n",
        "\n",
        "<center>\n",
        "<img src=\"https://www.leansixsigmadefinition.com/wp-content/uploads/2019/10/six_sigma_definition_standard_deviations.jpg\">"
      ]
    },
    {
      "cell_type": "code",
      "metadata": {
        "id": "h9PcYTUOy81Z",
        "colab": {
          "base_uri": "https://localhost:8080/"
        },
        "outputId": "03ddc83b-71b4-478c-8978-a20e77e7c220"
      },
      "source": [
        "! pip install getdist\n",
        "import getdist\n",
        "from getdist import plots, MCSamples\n",
        "samp_shoes = getdist.mcsamples.MCSamples(samples=samples_shoes, names = ['H0','MB'], labels = ['H_0','M_B'])\n",
        "\n",
        "samp_shoes.updateSettings({'contours': [0.682689492137086, 0.954499736103642,0.997300203936740]})"
      ],
      "execution_count": null,
      "outputs": [
        {
          "output_type": "stream",
          "text": [
            "Collecting getdist\n",
            "\u001b[?25l  Downloading https://files.pythonhosted.org/packages/cd/d2/bc418d7cb1cbf53d9dbb28347310cc270b7147dccc4fc3814b7d4f194e22/GetDist-1.2.1.tar.gz (771kB)\n",
            "\r\u001b[K     |▍                               | 10kB 15.2MB/s eta 0:00:01\r\u001b[K     |▉                               | 20kB 8.6MB/s eta 0:00:01\r\u001b[K     |█▎                              | 30kB 9.1MB/s eta 0:00:01\r\u001b[K     |█▊                              | 40kB 8.1MB/s eta 0:00:01\r\u001b[K     |██▏                             | 51kB 4.3MB/s eta 0:00:01\r\u001b[K     |██▌                             | 61kB 4.9MB/s eta 0:00:01\r\u001b[K     |███                             | 71kB 5.0MB/s eta 0:00:01\r\u001b[K     |███▍                            | 81kB 5.1MB/s eta 0:00:01\r\u001b[K     |███▉                            | 92kB 5.1MB/s eta 0:00:01\r\u001b[K     |████▎                           | 102kB 4.2MB/s eta 0:00:01\r\u001b[K     |████▊                           | 112kB 4.2MB/s eta 0:00:01\r\u001b[K     |█████                           | 122kB 4.2MB/s eta 0:00:01\r\u001b[K     |█████▌                          | 133kB 4.2MB/s eta 0:00:01\r\u001b[K     |██████                          | 143kB 4.2MB/s eta 0:00:01\r\u001b[K     |██████▍                         | 153kB 4.2MB/s eta 0:00:01\r\u001b[K     |██████▉                         | 163kB 4.2MB/s eta 0:00:01\r\u001b[K     |███████▏                        | 174kB 4.2MB/s eta 0:00:01\r\u001b[K     |███████▋                        | 184kB 4.2MB/s eta 0:00:01\r\u001b[K     |████████                        | 194kB 4.2MB/s eta 0:00:01\r\u001b[K     |████████▌                       | 204kB 4.2MB/s eta 0:00:01\r\u001b[K     |█████████                       | 215kB 4.2MB/s eta 0:00:01\r\u001b[K     |█████████▍                      | 225kB 4.2MB/s eta 0:00:01\r\u001b[K     |█████████▊                      | 235kB 4.2MB/s eta 0:00:01\r\u001b[K     |██████████▏                     | 245kB 4.2MB/s eta 0:00:01\r\u001b[K     |██████████▋                     | 256kB 4.2MB/s eta 0:00:01\r\u001b[K     |███████████                     | 266kB 4.2MB/s eta 0:00:01\r\u001b[K     |███████████▌                    | 276kB 4.2MB/s eta 0:00:01\r\u001b[K     |████████████                    | 286kB 4.2MB/s eta 0:00:01\r\u001b[K     |████████████▎                   | 296kB 4.2MB/s eta 0:00:01\r\u001b[K     |████████████▊                   | 307kB 4.2MB/s eta 0:00:01\r\u001b[K     |█████████████▏                  | 317kB 4.2MB/s eta 0:00:01\r\u001b[K     |█████████████▋                  | 327kB 4.2MB/s eta 0:00:01\r\u001b[K     |██████████████                  | 337kB 4.2MB/s eta 0:00:01\r\u001b[K     |██████████████▍                 | 348kB 4.2MB/s eta 0:00:01\r\u001b[K     |██████████████▉                 | 358kB 4.2MB/s eta 0:00:01\r\u001b[K     |███████████████▎                | 368kB 4.2MB/s eta 0:00:01\r\u001b[K     |███████████████▊                | 378kB 4.2MB/s eta 0:00:01\r\u001b[K     |████████████████▏               | 389kB 4.2MB/s eta 0:00:01\r\u001b[K     |████████████████▋               | 399kB 4.2MB/s eta 0:00:01\r\u001b[K     |█████████████████               | 409kB 4.2MB/s eta 0:00:01\r\u001b[K     |█████████████████▍              | 419kB 4.2MB/s eta 0:00:01\r\u001b[K     |█████████████████▉              | 430kB 4.2MB/s eta 0:00:01\r\u001b[K     |██████████████████▎             | 440kB 4.2MB/s eta 0:00:01\r\u001b[K     |██████████████████▊             | 450kB 4.2MB/s eta 0:00:01\r\u001b[K     |███████████████████▏            | 460kB 4.2MB/s eta 0:00:01\r\u001b[K     |███████████████████▌            | 471kB 4.2MB/s eta 0:00:01\r\u001b[K     |████████████████████            | 481kB 4.2MB/s eta 0:00:01\r\u001b[K     |████████████████████▍           | 491kB 4.2MB/s eta 0:00:01\r\u001b[K     |████████████████████▉           | 501kB 4.2MB/s eta 0:00:01\r\u001b[K     |█████████████████████▎          | 512kB 4.2MB/s eta 0:00:01\r\u001b[K     |█████████████████████▋          | 522kB 4.2MB/s eta 0:00:01\r\u001b[K     |██████████████████████          | 532kB 4.2MB/s eta 0:00:01\r\u001b[K     |██████████████████████▌         | 542kB 4.2MB/s eta 0:00:01\r\u001b[K     |███████████████████████         | 552kB 4.2MB/s eta 0:00:01\r\u001b[K     |███████████████████████▍        | 563kB 4.2MB/s eta 0:00:01\r\u001b[K     |███████████████████████▉        | 573kB 4.2MB/s eta 0:00:01\r\u001b[K     |████████████████████████▏       | 583kB 4.2MB/s eta 0:00:01\r\u001b[K     |████████████████████████▋       | 593kB 4.2MB/s eta 0:00:01\r\u001b[K     |█████████████████████████       | 604kB 4.2MB/s eta 0:00:01\r\u001b[K     |█████████████████████████▌      | 614kB 4.2MB/s eta 0:00:01\r\u001b[K     |██████████████████████████      | 624kB 4.2MB/s eta 0:00:01\r\u001b[K     |██████████████████████████▍     | 634kB 4.2MB/s eta 0:00:01\r\u001b[K     |██████████████████████████▊     | 645kB 4.2MB/s eta 0:00:01\r\u001b[K     |███████████████████████████▏    | 655kB 4.2MB/s eta 0:00:01\r\u001b[K     |███████████████████████████▋    | 665kB 4.2MB/s eta 0:00:01\r\u001b[K     |████████████████████████████    | 675kB 4.2MB/s eta 0:00:01\r\u001b[K     |████████████████████████████▌   | 686kB 4.2MB/s eta 0:00:01\r\u001b[K     |████████████████████████████▉   | 696kB 4.2MB/s eta 0:00:01\r\u001b[K     |█████████████████████████████▎  | 706kB 4.2MB/s eta 0:00:01\r\u001b[K     |█████████████████████████████▊  | 716kB 4.2MB/s eta 0:00:01\r\u001b[K     |██████████████████████████████▏ | 727kB 4.2MB/s eta 0:00:01\r\u001b[K     |██████████████████████████████▋ | 737kB 4.2MB/s eta 0:00:01\r\u001b[K     |███████████████████████████████ | 747kB 4.2MB/s eta 0:00:01\r\u001b[K     |███████████████████████████████▍| 757kB 4.2MB/s eta 0:00:01\r\u001b[K     |███████████████████████████████▉| 768kB 4.2MB/s eta 0:00:01\r\u001b[K     |████████████████████████████████| 778kB 4.2MB/s \n",
            "\u001b[?25hRequirement already satisfied: numpy in /usr/local/lib/python3.7/dist-packages (from getdist) (1.19.5)\n",
            "Requirement already satisfied: matplotlib>=2.2.0 in /usr/local/lib/python3.7/dist-packages (from getdist) (3.2.2)\n",
            "Requirement already satisfied: scipy>=1.0.0 in /usr/local/lib/python3.7/dist-packages (from getdist) (1.4.1)\n",
            "Requirement already satisfied: python-dateutil>=2.1 in /usr/local/lib/python3.7/dist-packages (from matplotlib>=2.2.0->getdist) (2.8.1)\n",
            "Requirement already satisfied: kiwisolver>=1.0.1 in /usr/local/lib/python3.7/dist-packages (from matplotlib>=2.2.0->getdist) (1.3.1)\n",
            "Requirement already satisfied: cycler>=0.10 in /usr/local/lib/python3.7/dist-packages (from matplotlib>=2.2.0->getdist) (0.10.0)\n",
            "Requirement already satisfied: pyparsing!=2.0.4,!=2.1.2,!=2.1.6,>=2.0.1 in /usr/local/lib/python3.7/dist-packages (from matplotlib>=2.2.0->getdist) (2.4.7)\n",
            "Requirement already satisfied: six>=1.5 in /usr/local/lib/python3.7/dist-packages (from python-dateutil>=2.1->matplotlib>=2.2.0->getdist) (1.15.0)\n",
            "Building wheels for collected packages: getdist\n",
            "  Building wheel for getdist (setup.py) ... \u001b[?25l\u001b[?25hdone\n",
            "  Created wheel for getdist: filename=GetDist-1.2.1-cp37-none-any.whl size=220592 sha256=5fbede98c1dd9d9518713540c0adc37b04ac0ae355b9a40455c00f07fd564289\n",
            "  Stored in directory: /root/.cache/pip/wheels/81/ac/6b/7d305824ccdaa43cfffc4e844c14808dd5725bde9288eaad58\n",
            "Successfully built getdist\n",
            "Installing collected packages: getdist\n",
            "Successfully installed getdist-1.2.1\n",
            "Removed no burn in\n"
          ],
          "name": "stdout"
        }
      ]
    },
    {
      "cell_type": "code",
      "metadata": {
        "id": "gyzDB1Sty81a",
        "colab": {
          "base_uri": "https://localhost:8080/",
          "height": 378
        },
        "outputId": "54d64730-e518-4a5a-dfd1-392bd83c7f7e"
      },
      "source": [
        "g = plots.get_subplot_plotter(width_inch=10,)\n",
        "g.settings.legend_fontsize = 24\n",
        "g.settings.axes_fontsize = 24\n",
        "g.settings.axes_labelsize = 24\n",
        "\n",
        "g.plots_1d(samp_shoes,['MB','H0'],nx=2, title_limit=1)"
      ],
      "execution_count": null,
      "outputs": [
        {
          "output_type": "execute_result",
          "data": {
            "text/plain": [
              "(2, 1)"
            ]
          },
          "metadata": {
            "tags": []
          },
          "execution_count": 75
        },
        {
          "output_type": "display_data",
          "data": {
            "image/png": "[encoded data removed]",
            "text/plain": [
              "<Figure size 720x360 with 2 Axes>"
            ]
          },
          "metadata": {
            "tags": [],
            "needs_background": "light"
          }
        }
      ]
    },
    {
      "cell_type": "code",
      "metadata": {
        "id": "ZTYfNB-jy81b",
        "colab": {
          "base_uri": "https://localhost:8080/",
          "height": 700
        },
        "outputId": "fcaa6a8d-46d2-4f2e-bb12-20254b150666"
      },
      "source": [
        "g = plots.get_single_plotter(width_inch=9,ratio=1.01)\n",
        "g.settings.legend_fontsize = 24\n",
        "g.settings.axes_fontsize = 24\n",
        "g.settings.axes_labelsize = 24\n",
        "\n",
        "g.plot_2d(samp_shoes, 'H0', 'MB', filled=True, colors=['blue'], alphas=[0.7,0.6])"
      ],
      "execution_count": null,
      "outputs": [
        {
          "output_type": "execute_result",
          "data": {
            "text/plain": [
              "((68.13163409481997, 78.77521734322677),\n",
              " (-19.39176246271158, -19.084970572614502))"
            ]
          },
          "metadata": {
            "tags": []
          },
          "execution_count": 79
        },
        {
          "output_type": "display_data",
          "data": {
            "image/png": "[encoded data removed]",
            "text/plain": [
              "<Figure size 648x654.48 with 1 Axes>"
            ]
          },
          "metadata": {
            "tags": [],
            "needs_background": "light"
          }
        }
      ]
    },
    {
      "cell_type": "code",
      "metadata": {
        "id": "yA5-45Dgy81b",
        "colab": {
          "base_uri": "https://localhost:8080/"
        },
        "outputId": "48d38807-bdd9-477b-c4bb-3469affb08fa"
      },
      "source": [
        "stat = samp_shoes.getMargeStats()\n",
        "print(stat)"
      ],
      "execution_count": null,
      "outputs": [
        {
          "output_type": "stream",
          "text": [
            "Marginalized limits: 0.682689492137086; 0.954499736103642; 0.99730020393674\n",
            "\n",
            "parameter   mean           sddev          lower1         upper1         limit1 lower2         upper2         limit2 lower3         upper3         limit3 \n",
            "H0          7.3491961E+01  1.4040029E+00  7.2084886E+01  7.4906752E+01  two    7.0725801E+01  7.6347370E+01  two    6.9367961E+01  7.7564459E+01  two     H_0\n",
            "MB         -1.9234249E+01  4.0329959E-02 -1.9274758E+01 -1.9193593E+01  two   -1.9314719E+01 -1.9153639E+01  two   -1.9355593E+01 -1.9119218E+01  two     M_B\n",
            "\n"
          ],
          "name": "stdout"
        }
      ]
    },
    {
      "cell_type": "code",
      "metadata": {
        "colab": {
          "base_uri": "https://localhost:8080/"
        },
        "id": "VRTwNLy1eCnR",
        "outputId": "0f934fef-547c-4eeb-ec3f-f9251f2289a3"
      },
      "source": [
        "(73.49196 - 66.7)/1.4"
      ],
      "execution_count": null,
      "outputs": [
        {
          "output_type": "execute_result",
          "data": {
            "text/plain": [
              "4.851400000000003"
            ]
          },
          "metadata": {
            "tags": []
          },
          "execution_count": 84
        }
      ]
    },
    {
      "cell_type": "code",
      "metadata": {
        "id": "6wzrhBYKy81c",
        "colab": {
          "base_uri": "https://localhost:8080/",
          "height": 694
        },
        "outputId": "55b65f3b-a0dc-4383-976e-f64293217ce9"
      },
      "source": [
        "g = plots.get_single_plotter(width_inch=10,ratio=1.01)\n",
        "g.settings.legend_fontsize = 24\n",
        "g.settings.axes_fontsize = 24\n",
        "g.settings.axes_labelsize = 24\n",
        "\n",
        "g.triangle_plot(samp_shoes, ['H0', 'MB'], filled=True, colors=['blue'], alphas=[0.7,0.6],title_limit=1,)"
      ],
      "execution_count": null,
      "outputs": [
        {
          "output_type": "display_data",
          "data": {
            "text/plain": [
              "<Figure size 720x727.2 with 0 Axes>"
            ]
          },
          "metadata": {
            "tags": []
          }
        },
        {
          "output_type": "display_data",
          "data": {
            "image/png": "[encoded data removed]",
            "text/plain": [
              "<Figure size 720x727.2 with 3 Axes>"
            ]
          },
          "metadata": {
            "tags": [],
            "needs_background": "light"
          }
        }
      ]
    },
    {
      "cell_type": "markdown",
      "metadata": {
        "id": "BZxi2lDyy81d"
      },
      "source": [
        "## 3.-H0/q0"
      ]
    },
    {
      "cell_type": "markdown",
      "metadata": {
        "id": "AZXKAu5Cy81d"
      },
      "source": [
        "Nuestro analisis asume $q_0$ libre y $d_L(z)$ hasta $\\mathcal{O}(z^2)$\n",
        "\n",
        "$$d_L(z) = \\frac{cz}{H_0} \\left\\lbrace 1+\\frac{1}{2}(1-q_0)z \\right\\rbrace$$\n",
        "\n"
      ]
    },
    {
      "cell_type": "markdown",
      "metadata": {
        "id": "o2Q2GIjgy81d"
      },
      "source": [
        "Repetir analisis para este caso"
      ]
    },
    {
      "cell_type": "code",
      "metadata": {
        "id": "CgbIYRnKbbgd"
      },
      "source": [
        "# Sigue los pasos:\n",
        "# 1.- Generaliza cosmografia_mB_sh0es (cosmografia_mB) de tal manera que la nueva funcion\n",
        "# tenga como argumento un vector [H0,q0,MB]\n",
        "# 2.- Actualiza chi2_sn([H0,q0,MB]) de manera que ahora use cosmografia_mB\n",
        "# 3.- Actualiza log_flat_prior([H0,q0,MB]) usando q0min = -2.5, q0max = 0.5\n",
        "# 4.- Reconstruyer log_likelihood([H0,q0,MB])"
      ],
      "execution_count": null,
      "outputs": []
    },
    {
      "cell_type": "markdown",
      "metadata": {
        "id": "NUjKbxNDy81l"
      },
      "source": [
        "Reproducir Fig.1 de [arXiv:1906.11814](https://arxiv.org/abs/1906.11814)    "
      ]
    },
    {
      "cell_type": "markdown",
      "metadata": {
        "id": "COUnVnsFy81l"
      },
      "source": [
        "Analizar $\\Lambda$CDM con CC y SNe (sesion 1.1) usando emcee y getdsit."
      ]
    }
  ]
}